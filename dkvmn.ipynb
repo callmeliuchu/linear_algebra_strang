{
 "cells": [
  {
   "cell_type": "code",
   "execution_count": 27,
   "id": "ff67d536",
   "metadata": {
    "pycharm": {
     "name": "#%%\n"
    }
   },
   "outputs": [],
   "source": [
    "import torch\n",
    "import torch.nn as nn\n",
    "import torch.nn.functional as F\n",
    "from torch.optim import Adam"
   ]
  },
  {
   "cell_type": "code",
   "execution_count": 28,
   "id": "ca60779d",
   "metadata": {
    "pycharm": {
     "name": "#%%\n"
    }
   },
   "outputs": [],
   "source": [
    "n_question = 123\n",
    "q_embedding_size = 100\n",
    "key_size = 100\n",
    "value_size = 100\n",
    "key_embedding_size = 100\n",
    "value_embedding_size = 100\n",
    "rt_kt_embedding_size = 100"
   ]
  },
  {
   "cell_type": "code",
   "execution_count": 29,
   "id": "5ca8799a",
   "metadata": {
    "pycharm": {
     "name": "#%%\n"
    }
   },
   "outputs": [],
   "source": [
    "class ModelRead(nn.Module):\n",
    "    \n",
    "    \n",
    "    def __init__(self):\n",
    "        super().__init__()\n",
    "        self.embedding = nn.Embedding(n_question,q_embedding_size)\n",
    "        self.Mk = nn.Parameter(torch.randn(key_size,key_embedding_size))\n",
    "        self.Mv = nn.Parameter(torch.randn(value_size,value_embedding_size))\n",
    "        self.linear1 = nn.Linear(q_embedding_size+value_embedding_size,\n",
    "                                rt_kt_embedding_size,bias=True)\n",
    "        self.tanh = nn.Tanh()\n",
    "        self.linear2 = nn.Linear(rt_kt_embedding_size,1,bias=True)\n",
    "        self.sigmoid = nn.Sigmoid()\n",
    "    \n",
    "    def forward(self,qt):\n",
    "        # qt B q_size\n",
    "        kt = self.embedding(qt)\n",
    "        wt = F.softmax(kt @ self.Mk,dim=-1)\n",
    "        rt = wt @ self.Mv\n",
    "        x = torch.concat([rt,kt])\n",
    "        ft = self.tanh(self.linear1(x))\n",
    "        pt = self.sigmoid(self.linear2(ft))\n",
    "        return wt,pt"
   ]
  },
  {
   "cell_type": "code",
   "execution_count": null,
   "outputs": [],
   "source": [
    "class ModelWrite(nn.Module):\n",
    "    \n",
    "    \n",
    "    def __init__(self):\n",
    "        super().__init__()\n",
    "        self.embedding = nn.Embedding(n_question,q_embedding_size)\n",
    "        self.linear1 = nn.Linear(q_embedding_size+value_embedding_size,\n",
    "                                rt_kt_embedding_size,bias=True)\n",
    "        self.tanh = nn.Tanh()\n",
    "        self.linear2 = nn.Linear(rt_kt_embedding_size,1,bias=True)\n",
    "        self.sigmoid = nn.Sigmoid()\n",
    "    \n",
    "    def update_value(self,Mv,qt,r,wt):\n",
    "        # qt B q_size\n",
    "        # todo \n",
    "        \n",
    "        \n",
    "        "
   ],
   "metadata": {
    "collapsed": false,
    "pycharm": {
     "name": "#%%\n"
    }
   }
  },
  {
   "cell_type": "code",
   "execution_count": null,
   "outputs": [],
   "source": [
    "class Model(nn.Module):\n",
    "    \n",
    "    \n",
    "    def __init__(self):\n",
    "        super().__init__()\n",
    "        self.read_model = ModelRead()\n",
    "        self.write_model = ModelWrite()\n",
    "    \n",
    "    \n",
    "    def forward(self,qt,rt):\n",
    "        xt = (qt,rt)\n",
    "        wt,pt = self.read_model(qt)\n",
    "        self.write_model.update_value(xt,wt)\n",
    "        return pt"
   ],
   "metadata": {
    "collapsed": false,
    "pycharm": {
     "name": "#%%\n"
    }
   }
  },
  {
   "cell_type": "code",
   "execution_count": null,
   "outputs": [],
   "source": [
    "model = Model()\n",
    "optim = Adam(model.parameters(),lr=0.001)\n",
    "batch_data = []"
   ],
   "metadata": {
    "collapsed": false,
    "pycharm": {
     "name": "#%%\n"
    }
   }
  },
  {
   "cell_type": "code",
   "execution_count": null,
   "outputs": [],
   "source": [
    "for batch_x,batch_y in batch_data:\n",
    "    pred = model(batch_x)\n",
    "    loss = optim(batch_y,pred)\n",
    "    print('loss is ---> ',loss)\n",
    "    optim.zero_grad()\n",
    "    loss.backward()\n",
    "    optim.step()"
   ],
   "metadata": {
    "collapsed": false,
    "pycharm": {
     "name": "#%%\n"
    }
   }
  },
  {
   "cell_type": "code",
   "execution_count": null,
   "outputs": [],
   "source": [],
   "metadata": {
    "collapsed": false,
    "pycharm": {
     "name": "#%%\n"
    }
   }
  },
  {
   "cell_type": "code",
   "execution_count": null,
   "id": "9f1ea33d",
   "metadata": {
    "pycharm": {
     "name": "#%%\n"
    }
   },
   "outputs": [],
   "source": [
    "class Model(nn.Module):\n",
    "    \n",
    "    \n",
    "    def __init__(self):\n",
    "        super().__init__()\n",
    "        self.read_model = ModelRead()\n",
    "        self.write_model = ModelWrite()\n",
    "    \n",
    "    \n",
    "    def forward(self,qt,rt):\n",
    "        xt = (qt,rt)\n",
    "        wt,pt = self.read_model(qt)\n",
    "        self.write_model.update_value(xt,wt)\n",
    "        return pt"
   ]
  },
  {
   "cell_type": "code",
   "execution_count": null,
   "id": "80d9c7ba",
   "metadata": {
    "pycharm": {
     "name": "#%%\n"
    }
   },
   "outputs": [],
   "source": [
    "model = Model()\n",
    "optim = Adam(model.parameters(),lr=0.001)\n",
    "batch_data = []"
   ]
  },
  {
   "cell_type": "code",
   "execution_count": null,
   "id": "87e75dd9",
   "metadata": {
    "pycharm": {
     "name": "#%%\n"
    }
   },
   "outputs": [],
   "source": [
    "for batch_x,batch_y in batch_data:\n",
    "    pred = model(batch_x)\n",
    "    loss = optim(batch_y,pred)\n",
    "    print('loss is ---> ',loss)\n",
    "    optim.zero_grad()\n",
    "    loss.backward()\n",
    "    optim.step()"
   ]
  },
  {
   "cell_type": "code",
   "execution_count": null,
   "id": "23c0f543",
   "metadata": {
    "pycharm": {
     "name": "#%%\n"
    }
   },
   "outputs": [],
   "source": []
  },
  {
   "cell_type": "code",
   "execution_count": 18,
   "id": "4a0658a8",
   "metadata": {},
   "outputs": [],
   "source": [
    "class Model(nn.Module):\n",
    "    \n",
    "    \n",
    "    def __init__(self):\n",
    "        super().__init__()\n",
    "        self.read_model = ModelRead()\n",
    "        self.write_model = ModelWrite()\n",
    "    \n",
    "    \n",
    "    def forward(self,qt,rt):\n",
    "        xt = (qt,rt)\n",
    "        wt,pt = self.read_model(qt)\n",
    "        self.write_model.update_value(xt,wt)\n",
    "        return pt"
   ]
  },
  {
   "cell_type": "code",
   "execution_count": 24,
   "id": "83354069",
   "metadata": {},
   "outputs": [],
   "source": [
    "model = Model()\n",
    "optim = Adam(model.parameters(),lr=0.001)\n",
    "batch_data = []"
   ]
  },
  {
   "cell_type": "code",
   "execution_count": 26,
   "id": "91597b98",
   "metadata": {},
   "outputs": [],
   "source": [
    "for batch_x,batch_y in batch_data:\n",
    "    pred = model(batch_x)\n",
    "    loss = optim(batch_y,pred)\n",
    "    print('loss is ---> ',loss)\n",
    "    optim.zero_grad()\n",
    "    loss.backward()\n",
    "    optim.step()"
   ]
  },
  {
   "cell_type": "code",
   "execution_count": null,
   "id": "3fc7734b",
   "metadata": {},
   "outputs": [],
   "source": []
  }
 ],
 "metadata": {
  "kernelspec": {
   "display_name": "edu_ktm",
   "language": "python",
   "name": "edu_ktm"
  },
  "language_info": {
   "codemirror_mode": {
    "name": "ipython",
    "version": 3
   },
   "file_extension": ".py",
   "mimetype": "text/x-python",
   "name": "python",
   "nbconvert_exporter": "python",
   "pygments_lexer": "ipython3",
   "version": "3.9.16"
  }
 },
 "nbformat": 4,
 "nbformat_minor": 5
}