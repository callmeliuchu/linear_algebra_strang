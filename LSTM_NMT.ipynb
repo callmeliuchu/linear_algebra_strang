{
 "cells": [
  {
   "cell_type": "code",
   "execution_count": 8,
   "id": "54cf9d78-14f5-415d-af27-3bc0096fe7b0",
   "metadata": {},
   "outputs": [],
   "source": [
    "import torch\n",
    "import torch.nn as nn\n",
    "import torch.optim as optim\n",
    "from torch.utils.data import Dataset, DataLoader\n",
    "import numpy as np\n",
    "from sklearn.model_selection import train_test_split\n",
    "import random"
   ]
  },
  {
   "cell_type": "code",
   "execution_count": 9,
   "id": "ce6c3915-2575-4481-a7ad-51f4f9eb1086",
   "metadata": {},
   "outputs": [],
   "source": [
    "def tokenize(text, vocab, max_len):\n",
    "    tokens = [vocab.get(char, vocab['<unk>']) for char in text]\n",
    "    tokens = tokens[:max_len-1] + [vocab['<eos>']] # Add end-of-sequence token\n",
    "    return tokens\n",
    "\n",
    "class TranslationDataset(Dataset):\n",
    "    def __init__(self, input_texts, target_texts, input_vocab, target_vocab, max_len):\n",
    "        self.input_texts = [tokenize(text, input_vocab, max_len) for text in input_texts]\n",
    "        self.target_texts = [tokenize(text, target_vocab, max_len) for text in target_texts]\n",
    "        self.max_len = max_len\n",
    "\n",
    "    def __len__(self):\n",
    "        return len(self.input_texts)\n",
    "\n",
    "    def __getitem__(self, idx):\n",
    "        input_text = self.input_texts[idx]\n",
    "        target_text = self.target_texts[idx]\n",
    "        return torch.tensor(input_text, dtype=torch.long), torch.tensor(target_text, dtype=torch.long)"
   ]
  },
  {
   "cell_type": "code",
   "execution_count": 222,
   "id": "08e91564-3957-4a36-8724-c90b0307990b",
   "metadata": {},
   "outputs": [],
   "source": [
    "class Encoder(nn.Module):\n",
    "    def __init__(self, input_size, hidden_size):\n",
    "        super(Encoder, self).__init__()\n",
    "        self.hidden_size = hidden_size\n",
    "        self.embedding = nn.Embedding(input_size, hidden_size)\n",
    "        self.lstm = nn.LSTM(hidden_size, hidden_size,batch_first=True)\n",
    "\n",
    "    def forward(self, input):\n",
    "        embedded = self.embedding(input)\n",
    "        output, hidden = self.lstm(embedded)\n",
    "        return output, hidden\n",
    "\n",
    "    def initHidden(self):\n",
    "        return (torch.zeros(1, 1, self.hidden_size), torch.zeros(1, 1, self.hidden_size))"
   ]
  },
  {
   "cell_type": "code",
   "execution_count": 224,
   "id": "d8fc86e1-9e14-4b96-8356-9625d3f88135",
   "metadata": {},
   "outputs": [
    {
     "name": "stdout",
     "output_type": "stream",
     "text": [
      "hidden shape torch.Size([1, 1, 256])\n",
      "input shape torch.Size([1, 2])\n",
      "Output of encoder shape torch.Size([1, 2, 256])\n",
      "hidden torch.Size([1, 1, 256])\n"
     ]
    }
   ],
   "source": [
    "# Parameters\n",
    "input_size = 1000\n",
    "hidden_size = 256\n",
    "\n",
    "# Encoder\n",
    "encoder = Encoder(input_size, hidden_size)\n",
    "initial_hidden = encoder.initHidden()\n",
    "print('hidden shape',initial_hidden[0].shape)\n",
    "\n",
    "# Input data\n",
    "input_indices = [[1,2]]\n",
    "input_tensor = torch.tensor(input_indices, dtype=torch.long)\n",
    "\n",
    "print('input shape',input_tensor.shape)\n",
    "# Encoding\n",
    "\n",
    "input_word = input_tensor\n",
    "output, hidden = encoder(input_word)\n",
    "initial_hidden = hidden\n",
    "print(f\"Output of encoder shape {output.shape}\")\n",
    "print('hidden',hidden[0].shape)\n"
   ]
  },
  {
   "cell_type": "code",
   "execution_count": 225,
   "id": "8f23f8e7-c13e-4bcf-a479-c789582f7b6a",
   "metadata": {},
   "outputs": [],
   "source": [
    "class Decoder(nn.Module):\n",
    "    def __init__(self, hidden_size, output_size):\n",
    "        super(Decoder, self).__init__()\n",
    "        self.hidden_size = hidden_size\n",
    "        self.embedding = nn.Embedding(output_size, hidden_size)\n",
    "        self.lstm = nn.LSTM(hidden_size, hidden_size,batch_first=True)\n",
    "        self.out = nn.Linear(hidden_size, output_size)\n",
    "        self.softmax = nn.LogSoftmax(dim=-1)\n",
    "\n",
    "    def forward(self, input, hidden):\n",
    "        output = self.embedding(input)\n",
    "        output = torch.relu(output)\n",
    "        # print('output shape',output.shape)\n",
    "        output, hidden = self.lstm(output, hidden)\n",
    "        output = self.softmax(self.out(output))\n",
    "        return output, hidden"
   ]
  },
  {
   "cell_type": "code",
   "execution_count": 226,
   "id": "809c3a6f-1443-4726-8cff-6ed48747af28",
   "metadata": {},
   "outputs": [
    {
     "name": "stdout",
     "output_type": "stream",
     "text": [
      "input shape torch.Size([1, 3]) initial_hidden shape torch.Size([1, 1, 256])\n",
      "output shape torch.Size([1, 3, 1000])\n"
     ]
    }
   ],
   "source": [
    "# Parameters\n",
    "hidden_size = 256\n",
    "output_size = 1000\n",
    "start_input = torch.tensor([[0,1,2]], dtype=torch.long)\n",
    "\n",
    "decoder = Decoder(hidden_size, output_size)\n",
    "\n",
    "# Sequence generation\n",
    "num_steps = 10\n",
    "current_input = start_input\n",
    "current_hidden = initial_hidden\n",
    "\n",
    "print('input shape',start_input.shape,'initial_hidden shape',initial_hidden[0].shape)\n",
    "\n",
    "output, current_hidden = decoder(current_input, current_hidden)\n",
    "print('output shape',output.shape)"
   ]
  },
  {
   "cell_type": "code",
   "execution_count": 229,
   "id": "dffaed4b-2275-4adb-86d1-8604e23a43dd",
   "metadata": {},
   "outputs": [
    {
     "name": "stdout",
     "output_type": "stream",
     "text": [
      "hidden shape torch.Size([1, 1, 256])\n",
      "torch.Size([1, 1, 1000])\n"
     ]
    }
   ],
   "source": [
    "\n",
    "# Parameters\n",
    "input_size = 2012\n",
    "hidden_size = 256\n",
    "encoder = Encoder(input_size, hidden_size)\n",
    "initial_hidden = encoder.initHidden()\n",
    "print('hidden shape',initial_hidden[0].shape)\n",
    "input_indices = [[1,2]]\n",
    "input_tensor = torch.tensor(input_indices, dtype=torch.long)\n",
    "input_word = input_tensor\n",
    "output, hidden = encoder(input_word)\n",
    "hidden_size = 256\n",
    "output_size = 1000\n",
    "\n",
    "decoder = Decoder(hidden_size, output_size)\n",
    "\n",
    "\n",
    "output1, hidden = encoder(input_word)\n",
    "\n",
    "target_input = torch.tensor([[0]], dtype=torch.long)\n",
    "start_input = []\n",
    "output2, current_hidden = decoder(target_input, hidden)\n",
    "\n",
    "print(output2.shape)\n"
   ]
  },
  {
   "cell_type": "code",
   "execution_count": 230,
   "id": "54add5d5-cb01-4c7d-b518-3de7f60cefa8",
   "metadata": {},
   "outputs": [
    {
     "data": {
      "text/plain": [
       "torch.return_types.topk(\n",
       "values=tensor([[4],\n",
       "        [8],\n",
       "        [7]]),\n",
       "indices=tensor([[2],\n",
       "        [2],\n",
       "        [2]]))"
      ]
     },
     "execution_count": 230,
     "metadata": {},
     "output_type": "execute_result"
    }
   ],
   "source": [
    "x = torch.tensor([[1,2,4],\n",
    "                   [2,7,8],\n",
    "                 [3,4,7]])\n",
    "x.topk(1)"
   ]
  },
  {
   "cell_type": "code",
   "execution_count": 231,
   "id": "b69b1d03-d614-4d9c-9641-f2a89deff305",
   "metadata": {},
   "outputs": [],
   "source": [
    "def tokenize(text):\n",
    "    # 定义分割符号（空格和标点符号）\n",
    "    delimiters = [' ', ',', '.', ':', ';', '!', '?', '(', ')', '[', ']', '{', '}', \"'\", '\"']\n",
    "\n",
    "    # 初始化单词列表和当前单词\n",
    "    words = []\n",
    "    current_word = ''\n",
    "\n",
    "    # 遍历文本中的每个字符\n",
    "    for char in text:\n",
    "        if char in delimiters:\n",
    "            # 如果当前单词不为空，将其添加到单词列表中\n",
    "            if current_word:\n",
    "                words.append(current_word)\n",
    "                current_word = ''\n",
    "            \n",
    "            # 如果当前字符是分割符号，将其作为单独的单词添加到单词列表中\n",
    "            if char != ' ':\n",
    "                words.append(char)\n",
    "        else:\n",
    "            # 如果当前字符不是分割符号，将其追加到当前单词中\n",
    "            current_word += char\n",
    "\n",
    "    # 如果最后一个单词不为空，将其添加到单词列表中\n",
    "    if current_word:\n",
    "        words.append(current_word)\n",
    "\n",
    "    return words"
   ]
  },
  {
   "cell_type": "code",
   "execution_count": 141,
   "id": "4e87c6ce-21d1-4c39-ba1c-fba7d6185342",
   "metadata": {},
   "outputs": [],
   "source": [
    "en_path = '/Users/liuchu/linear_algebra_strang/translate/中英翻译数据集/train/news-commentary-v13.zh-en.en'\n",
    "zh_path = '/Users/liuchu/linear_algebra_strang/translate/中英翻译数据集/train/news-commentary-v13.zh-en.zh'"
   ]
  },
  {
   "cell_type": "code",
   "execution_count": 153,
   "id": "8216a77d-591e-4b9b-9075-4225900a6e4a",
   "metadata": {},
   "outputs": [],
   "source": [
    "def get_en_sentences():\n",
    "    arr = []\n",
    "    with open(en_path,'r') as f:\n",
    "        count = 0\n",
    "        for line in f.readlines():\n",
    "            arr.append(tokenize(line.strip()))\n",
    "    return arr"
   ]
  },
  {
   "cell_type": "code",
   "execution_count": 152,
   "id": "f029af11-1c14-4d58-a3eb-b9c53fd465e5",
   "metadata": {},
   "outputs": [],
   "source": [
    "def get_zh_sentences():\n",
    "    arr = []\n",
    "    with open(zh_path,'r') as f:\n",
    "        count = 0\n",
    "        for line in f.readlines():\n",
    "            arr.append(line.strip().split())\n",
    "    return arr"
   ]
  },
  {
   "cell_type": "code",
   "execution_count": 154,
   "id": "28937b52-350f-484d-a2db-66d37aa9df59",
   "metadata": {},
   "outputs": [],
   "source": [
    "en_sentences = get_en_sentences()\n",
    "zh_sentences = get_zh_sentences()"
   ]
  },
  {
   "cell_type": "code",
   "execution_count": 158,
   "id": "09f01ea2-23d7-4d73-b496-0082bc3ff91a",
   "metadata": {},
   "outputs": [],
   "source": [
    "src_sentences = en_sentences\n",
    "target_sentences = zh_sentences"
   ]
  },
  {
   "cell_type": "code",
   "execution_count": 200,
   "id": "fc96fbe2-d577-44a8-b793-6d604f6af6cf",
   "metadata": {},
   "outputs": [],
   "source": [
    "src_vocab = {'<pad>': 0, '<sos>': 1, '<eos>': 2}\n",
    "src_set = list(set(word  for sentence in src_sentences for word in sentence))\n",
    "for i,word in enumerate(src_set):\n",
    "    src_vocab[word] = 1 + len(src_vocab)"
   ]
  },
  {
   "cell_type": "code",
   "execution_count": 193,
   "id": "2c67c04d-8617-47a7-bb0d-7d922b53339c",
   "metadata": {},
   "outputs": [
    {
     "data": {
      "text/plain": [
       "97323"
      ]
     },
     "execution_count": 193,
     "metadata": {},
     "output_type": "execute_result"
    }
   ],
   "source": [
    "len(src_set)"
   ]
  },
  {
   "cell_type": "code",
   "execution_count": 201,
   "id": "a9ec2f1d-94cd-4706-a61c-6077171e1494",
   "metadata": {},
   "outputs": [],
   "source": [
    "target_vocab = {'<pad>': 0, '<sos>': 1, '<eos>': 2}\n",
    "target_set = list(set(word  for sentence in target_sentences for word in sentence))\n",
    "for i,word in enumerate(target_set):\n",
    "    target_vocab[word] = 1 + len(target_vocab)"
   ]
  },
  {
   "cell_type": "code",
   "execution_count": 195,
   "id": "8d58081f-6864-4c60-8ba5-9ab0fb056e3e",
   "metadata": {},
   "outputs": [
    {
     "data": {
      "text/plain": [
       "93262"
      ]
     },
     "execution_count": 195,
     "metadata": {},
     "output_type": "execute_result"
    }
   ],
   "source": [
    "len(target_set)"
   ]
  },
  {
   "cell_type": "code",
   "execution_count": 202,
   "id": "5ea120de-09b2-4058-8c3c-3f2d61c5fe91",
   "metadata": {},
   "outputs": [],
   "source": [
    "src_index = []\n",
    "for sen in src_sentences:\n",
    "    src_index.append([src_vocab[word] for word in sen])"
   ]
  },
  {
   "cell_type": "code",
   "execution_count": 203,
   "id": "b4a47654-8005-44fa-9222-12dca6a4a937",
   "metadata": {},
   "outputs": [],
   "source": [
    "target_index = []\n",
    "for sen in target_sentences:\n",
    "    target_index.append([target_vocab[word] for word in sen])"
   ]
  },
  {
   "cell_type": "code",
   "execution_count": null,
   "id": "3c726b3b-876e-473e-bc0d-a69d703b767d",
   "metadata": {},
   "outputs": [],
   "source": []
  },
  {
   "cell_type": "code",
   "execution_count": 259,
   "id": "d5e4544b-7a19-42af-b49e-27e963bdfb9d",
   "metadata": {},
   "outputs": [],
   "source": [
    "import torch\n",
    "import torch.nn as nn\n",
    "import torch.optim as optim\n",
    "\n",
    "\n",
    "# 模型参数\n",
    "input_size = len(src_vocab)\n",
    "output_size = len(target_vocab)\n",
    "hidden_size = 256\n",
    "\n",
    "# 初始化模型\n",
    "encoder = Encoder(input_size, hidden_size)\n",
    "decoder = Decoder(hidden_size, output_size)\n",
    "\n",
    "# 损失函数和优化器\n",
    "criterion = nn.NLLLoss()\n",
    "encoder_optimizer = optim.Adam(encoder.parameters(), lr=0.001)\n",
    "decoder_optimizer = optim.Adam(decoder.parameters(), lr=0.001)\n",
    "\n",
    "# train 函数定义\n",
    "def train(input_tensor, target_tensor, encoder, decoder, encoder_optimizer, decoder_optimizer, criterion, max_length):\n",
    "\n",
    "    #### input_tensor Batch Seqlen\n",
    "    # print('input_tensor, target_tensor ....',input_tensor.shape, target_tensor.shape)\n",
    "    # encoder_hidden = encoder.initHidden()\n",
    "    # print('encoder_hidden,,,,',encoder_hidden[0].shape)\n",
    "\n",
    "    encoder_optimizer.zero_grad()\n",
    "    decoder_optimizer.zero_grad()\n",
    "\n",
    "    input_length = input_tensor.size(0)\n",
    "    target_length = target_tensor.size(0)\n",
    "    # print('target_length',target_length)\n",
    "    loss = 0\n",
    "    # for ei in range(input_length):\n",
    "    encoder_output, encoder_hidden = encoder(input_tensor.unsqueeze(0))\n",
    "    # print('encoder_output',encoder_output.shape)\n",
    "    \n",
    "    decoder_input = torch.tensor([[target_vocab['<sos>']]])\n",
    "    decoder_hidden = encoder_hidden\n",
    "\n",
    "    arr = []\n",
    "    for di in range(target_length+1):\n",
    "        decoder_output, decoder_hidden = decoder(decoder_input, decoder_hidden)\n",
    "        topv, topi = decoder_output.topk(1)\n",
    "        decoder_input = topi.squeeze(0).detach()\n",
    "        arr.append(decoder_output.squeeze(0))\n",
    "    t = torch.concatenate([target_tensor,torch.tensor([target_vocab['<eos>']])])\n",
    "    p = torch.concatenate(arr)\n",
    "    loss = criterion(p,t)\n",
    "    loss.backward()\n",
    "\n",
    "    encoder_optimizer.step()\n",
    "    decoder_optimizer.step()\n",
    "\n",
    "    return loss.item() / target_length\n",
    "\n"
   ]
  },
  {
   "cell_type": "code",
   "execution_count": 264,
   "id": "ed5baa7c-fbb2-44bd-92e5-744cfe89e08a",
   "metadata": {},
   "outputs": [
    {
     "name": "stdout",
     "output_type": "stream",
     "text": [
      "Training Loss: 0.0012\n",
      "Training Loss: 0.0012\n",
      "Training Loss: 0.0012\n",
      "Training Loss: 0.0012\n",
      "Training Loss: 0.0012\n",
      "Training Loss: 0.0012\n",
      "Training Loss: 0.0012\n",
      "Training Loss: 0.0012\n",
      "Training Loss: 0.0011\n",
      "Training Loss: 0.0011\n",
      "Training Loss: 0.0011\n",
      "Training Loss: 0.0011\n",
      "Training Loss: 0.0011\n",
      "Training Loss: 0.0011\n",
      "Training Loss: 0.0011\n",
      "Training Loss: 0.0011\n",
      "Training Loss: 0.0011\n",
      "Training Loss: 0.0011\n",
      "Training Loss: 0.0011\n",
      "Training Loss: 0.0011\n",
      "Training Loss: 0.0011\n",
      "Training Loss: 0.0011\n",
      "Training Loss: 0.0011\n",
      "Training Loss: 0.0011\n",
      "Training Loss: 0.0011\n",
      "Training Loss: 0.0011\n",
      "Training Loss: 0.0011\n",
      "Training Loss: 0.0011\n",
      "Training Loss: 0.0011\n",
      "Training Loss: 0.0011\n",
      "Training Loss: 0.0011\n",
      "Training Loss: 0.0010\n",
      "Training Loss: 0.0010\n",
      "Training Loss: 0.0010\n",
      "Training Loss: 0.0010\n",
      "Training Loss: 0.0010\n",
      "Training Loss: 0.0010\n",
      "Training Loss: 0.0010\n",
      "Training Loss: 0.0010\n",
      "Training Loss: 0.0010\n",
      "Training Loss: 0.0010\n",
      "Training Loss: 0.0010\n",
      "Training Loss: 0.0010\n",
      "Training Loss: 0.0010\n",
      "Training Loss: 0.0010\n",
      "Training Loss: 0.0010\n",
      "Training Loss: 0.0010\n",
      "Training Loss: 0.0010\n",
      "Training Loss: 0.0010\n",
      "Training Loss: 0.0010\n",
      "Training Loss: 0.0010\n",
      "Training Loss: 0.0010\n",
      "Training Loss: 0.0010\n",
      "Training Loss: 0.0010\n",
      "Training Loss: 0.0010\n",
      "Training Loss: 0.0010\n",
      "Training Loss: 0.0010\n",
      "Training Loss: 0.0010\n",
      "Training Loss: 0.0010\n",
      "Training Loss: 0.0009\n",
      "Training Loss: 0.0009\n",
      "Training Loss: 0.0009\n",
      "Training Loss: 0.0009\n",
      "Training Loss: 0.0009\n",
      "Training Loss: 0.0009\n",
      "Training Loss: 0.0009\n",
      "Training Loss: 0.0009\n",
      "Training Loss: 0.0009\n",
      "Training Loss: 0.0009\n",
      "Training Loss: 0.0009\n",
      "Training Loss: 0.0009\n",
      "Training Loss: 0.0009\n",
      "Training Loss: 0.0009\n",
      "Training Loss: 0.0009\n",
      "Training Loss: 0.0009\n",
      "Training Loss: 0.0009\n",
      "Training Loss: 0.0009\n",
      "Training Loss: 0.0009\n",
      "Training Loss: 0.0009\n",
      "Training Loss: 0.0009\n",
      "Training Loss: 0.0009\n",
      "Training Loss: 0.0009\n",
      "Training Loss: 0.0009\n",
      "Training Loss: 0.0009\n",
      "Training Loss: 0.0009\n",
      "Training Loss: 0.0009\n",
      "Training Loss: 0.0009\n",
      "Training Loss: 0.0009\n",
      "Training Loss: 0.0009\n",
      "Training Loss: 0.0009\n",
      "Training Loss: 0.0008\n",
      "Training Loss: 0.0008\n",
      "Training Loss: 0.0008\n",
      "Training Loss: 0.0008\n",
      "Training Loss: 0.0008\n",
      "Training Loss: 0.0008\n",
      "Training Loss: 0.0008\n",
      "Training Loss: 0.0008\n",
      "Training Loss: 0.0008\n",
      "Training Loss: 0.0008\n"
     ]
    }
   ],
   "source": [
    "for e in range(100):\n",
    "    for i in range(1):\n",
    "        src_tensor = torch.tensor(src_index[i])\n",
    "        tgt_tensor = torch.tensor(target_index[i])\n",
    "        # print(src_tensor,tgt_tensor)\n",
    "        loss = train(src_tensor, tgt_tensor, encoder, decoder, encoder_optimizer, decoder_optimizer, criterion, max_length=10)\n",
    "        print(f'Training Loss: {loss:.4f}')"
   ]
  },
  {
   "cell_type": "code",
   "execution_count": 265,
   "id": "b4f637ea-76f5-444f-82e0-7303034cde49",
   "metadata": {},
   "outputs": [],
   "source": [
    "# train 函数定义\n",
    "def predict(encoder, decoder, input_tensor,target_length=100):\n",
    "    encoder_optimizer.zero_grad()\n",
    "    decoder_optimizer.zero_grad()\n",
    "    input_length = input_tensor.size(0)\n",
    "    loss = 0\n",
    "    encoder_output, encoder_hidden = encoder(input_tensor.unsqueeze(0))    \n",
    "    decoder_input = torch.tensor([[target_vocab['<sos>']]])\n",
    "    decoder_hidden = encoder_hidden\n",
    "    arr = []\n",
    "    for di in range(target_length):\n",
    "        decoder_output, decoder_hidden = decoder(decoder_input, decoder_hidden)\n",
    "        topv, topi = decoder_output.topk(1)\n",
    "        decoder_input = topi.squeeze(0).detach()\n",
    "        # print(topi)\n",
    "        if topi.squeeze().item() == target_vocab['<eos>']:\n",
    "            print('end of sentence....')\n",
    "            break\n",
    "        else:\n",
    "            arr.append(target_set[topi.squeeze().item()])\n",
    "    print('ans....',arr)"
   ]
  },
  {
   "cell_type": "code",
   "execution_count": 267,
   "id": "53605ce1-a2d3-4336-867e-b340f2f8a3af",
   "metadata": {},
   "outputs": [
    {
     "data": {
      "text/plain": [
       "[62279, 59133, 55216, 45488]"
      ]
     },
     "execution_count": 267,
     "metadata": {},
     "output_type": "execute_result"
    }
   ],
   "source": [
    "src_index[0]"
   ]
  },
  {
   "cell_type": "code",
   "execution_count": 266,
   "id": "787b5110-c9d6-477c-82c0-8c0559b2577a",
   "metadata": {},
   "outputs": [
    {
     "name": "stdout",
     "output_type": "stream",
     "text": [
      "end of sentence....\n",
      "ans.... ['cristaliz', '使团', '凸显', 'Khomri', '使团', '习惯性']\n"
     ]
    }
   ],
   "source": [
    "input_tensor = torch.tensor(src_index[0])\n",
    "predict(encoder, decoder, input_tensor,target_length=100)"
   ]
  },
  {
   "cell_type": "markdown",
   "id": "d79cb840-6984-4e24-85a6-fc4c0b7d8386",
   "metadata": {},
   "source": [
    "# 版本2 使用batch_len进行实验"
   ]
  },
  {
   "cell_type": "code",
   "execution_count": null,
   "id": "ec767043-7319-4f77-8c6b-f672eebc9914",
   "metadata": {},
   "outputs": [],
   "source": [
    "def get_total_data(sentences):\n",
    "    max_en_len = max(len(sentence) for sentence in en_sentences)\n",
    "    "
   ]
  }
 ],
 "metadata": {
  "kernelspec": {
   "display_name": "linear_38",
   "language": "python",
   "name": "linear_38"
  },
  "language_info": {
   "codemirror_mode": {
    "name": "ipython",
    "version": 3
   },
   "file_extension": ".py",
   "mimetype": "text/x-python",
   "name": "python",
   "nbconvert_exporter": "python",
   "pygments_lexer": "ipython3",
   "version": "3.8.18"
  }
 },
 "nbformat": 4,
 "nbformat_minor": 5
}
