{
 "cells": [
  {
   "cell_type": "code",
   "execution_count": 1,
   "metadata": {},
   "outputs": [],
   "source": [
    "import torch\n",
    "import torch.nn as nn\n",
    "import torch.optim as optim\n",
    "from torch.utils.data import Dataset, DataLoader\n",
    "import numpy as np\n",
    "from sklearn.model_selection import train_test_split\n",
    "import random"
   ]
  },
  {
   "cell_type": "code",
   "execution_count": 2,
   "metadata": {},
   "outputs": [],
   "source": [
    "def tokenize(text, vocab, max_len):\n",
    "    tokens = [vocab.get(char, vocab['<unk>']) for char in text]\n",
    "    tokens = tokens[:max_len-1] + [vocab['<eos>']] # Add end-of-sequence token\n",
    "    return tokens\n",
    "\n",
    "class TranslationDataset(Dataset):\n",
    "    def __init__(self, input_texts, target_texts, input_vocab, target_vocab, max_len):\n",
    "        self.input_texts = [tokenize(text, input_vocab, max_len) for text in input_texts]\n",
    "        self.target_texts = [tokenize(text, target_vocab, max_len) for text in target_texts]\n",
    "        self.max_len = max_len\n",
    "\n",
    "    def __len__(self):\n",
    "        return len(self.input_texts)\n",
    "\n",
    "    def __getitem__(self, idx):\n",
    "        input_text = self.input_texts[idx]\n",
    "        target_text = self.target_texts[idx]\n",
    "        return torch.tensor(input_text, dtype=torch.long), torch.tensor(target_text, dtype=torch.long)"
   ]
  },
  {
   "cell_type": "code",
   "execution_count": 3,
   "metadata": {},
   "outputs": [],
   "source": [
    "class Encoder(nn.Module):\n",
    "    def __init__(self, input_size, hidden_size):\n",
    "        super(Encoder, self).__init__()\n",
    "        self.hidden_size = hidden_size\n",
    "        self.embedding = nn.Embedding(input_size, hidden_size)\n",
    "        self.lstm = nn.LSTM(hidden_size, hidden_size,batch_first=True)\n",
    "\n",
    "    def forward(self, input):\n",
    "        embedded = self.embedding(input)\n",
    "        output, hidden = self.lstm(embedded)\n",
    "        return output, hidden\n",
    "\n",
    "    def initHidden(self):\n",
    "        return (torch.zeros(1, 1, self.hidden_size), torch.zeros(1, 1, self.hidden_size))"
   ]
  },
  {
   "cell_type": "code",
   "execution_count": 4,
   "metadata": {},
   "outputs": [
    {
     "name": "stdout",
     "output_type": "stream",
     "text": [
      "hidden shape torch.Size([1, 1, 256])\n",
      "input shape torch.Size([1, 2])\n",
      "Output of encoder shape torch.Size([1, 2, 256])\n",
      "hidden torch.Size([1, 1, 256])\n"
     ]
    }
   ],
   "source": [
    "# Parameters\n",
    "input_size = 1000\n",
    "hidden_size = 256\n",
    "\n",
    "# Encoder\n",
    "encoder = Encoder(input_size, hidden_size)\n",
    "initial_hidden = encoder.initHidden()\n",
    "print('hidden shape',initial_hidden[0].shape)\n",
    "\n",
    "# Input data\n",
    "input_indices = [[1,2]]\n",
    "input_tensor = torch.tensor(input_indices, dtype=torch.long)\n",
    "\n",
    "print('input shape',input_tensor.shape)\n",
    "# Encoding\n",
    "\n",
    "input_word = input_tensor\n",
    "output, hidden = encoder(input_word)\n",
    "initial_hidden = hidden\n",
    "print(f\"Output of encoder shape {output.shape}\")\n",
    "print('hidden',hidden[0].shape)\n"
   ]
  },
  {
   "cell_type": "code",
   "execution_count": 5,
   "metadata": {},
   "outputs": [],
   "source": [
    "class Decoder(nn.Module):\n",
    "    def __init__(self, hidden_size, output_size):\n",
    "        super(Decoder, self).__init__()\n",
    "        self.hidden_size = hidden_size\n",
    "        self.embedding = nn.Embedding(output_size, hidden_size)\n",
    "        self.lstm = nn.LSTM(hidden_size, hidden_size,batch_first=True)\n",
    "        self.out = nn.Linear(hidden_size, output_size)\n",
    "        self.softmax = nn.LogSoftmax(dim=-1)\n",
    "\n",
    "    def forward(self, input, hidden):\n",
    "        output = self.embedding(input)\n",
    "        output = torch.relu(output)\n",
    "        # print('output shape',output.shape)\n",
    "        output, hidden = self.lstm(output, hidden)\n",
    "        output = self.softmax(self.out(output))\n",
    "        return output, hidden"
   ]
  },
  {
   "cell_type": "code",
   "execution_count": 6,
   "metadata": {},
   "outputs": [
    {
     "name": "stdout",
     "output_type": "stream",
     "text": [
      "input shape torch.Size([1, 3]) initial_hidden shape torch.Size([1, 1, 256])\n",
      "output shape torch.Size([1, 3, 1000])\n"
     ]
    }
   ],
   "source": [
    "# Parameters\n",
    "hidden_size = 256\n",
    "output_size = 1000\n",
    "start_input = torch.tensor([[0,1,2]], dtype=torch.long)\n",
    "\n",
    "decoder = Decoder(hidden_size, output_size)\n",
    "\n",
    "# Sequence generation\n",
    "num_steps = 10\n",
    "current_input = start_input\n",
    "current_hidden = initial_hidden\n",
    "\n",
    "print('input shape',start_input.shape,'initial_hidden shape',initial_hidden[0].shape)\n",
    "\n",
    "output, current_hidden = decoder(current_input, current_hidden)\n",
    "print('output shape',output.shape)"
   ]
  },
  {
   "cell_type": "code",
   "execution_count": 7,
   "metadata": {},
   "outputs": [
    {
     "name": "stdout",
     "output_type": "stream",
     "text": [
      "hidden shape torch.Size([1, 1, 256])\n",
      "torch.Size([1, 1, 1000])\n"
     ]
    }
   ],
   "source": [
    "\n",
    "# Parameters\n",
    "input_size = 2012\n",
    "hidden_size = 256\n",
    "encoder = Encoder(input_size, hidden_size)\n",
    "initial_hidden = encoder.initHidden()\n",
    "print('hidden shape',initial_hidden[0].shape)\n",
    "input_indices = [[1,2]]\n",
    "input_tensor = torch.tensor(input_indices, dtype=torch.long)\n",
    "input_word = input_tensor\n",
    "output, hidden = encoder(input_word)\n",
    "hidden_size = 256\n",
    "output_size = 1000\n",
    "\n",
    "decoder = Decoder(hidden_size, output_size)\n",
    "\n",
    "\n",
    "output1, hidden = encoder(input_word)\n",
    "\n",
    "target_input = torch.tensor([[0]], dtype=torch.long)\n",
    "start_input = []\n",
    "output2, current_hidden = decoder(target_input, hidden)\n",
    "\n",
    "print(output2.shape)\n"
   ]
  },
  {
   "cell_type": "code",
   "execution_count": 8,
   "metadata": {},
   "outputs": [
    {
     "data": {
      "text/plain": [
       "torch.return_types.topk(\n",
       "values=tensor([[4],\n",
       "        [8],\n",
       "        [7]]),\n",
       "indices=tensor([[2],\n",
       "        [2],\n",
       "        [2]]))"
      ]
     },
     "execution_count": 8,
     "metadata": {},
     "output_type": "execute_result"
    }
   ],
   "source": [
    "x = torch.tensor([[1,2,4],\n",
    "                   [2,7,8],\n",
    "                 [3,4,7]])\n",
    "x.topk(1)"
   ]
  },
  {
   "cell_type": "code",
   "execution_count": 9,
   "metadata": {},
   "outputs": [],
   "source": [
    "def tokenize(text):\n",
    "    # 定义分割符号（空格和标点符号）\n",
    "    delimiters = [' ', ',', '.', ':', ';', '!', '?', '(', ')', '[', ']', '{', '}', \"'\", '\"']\n",
    "\n",
    "    # 初始化单词列表和当前单词\n",
    "    words = []\n",
    "    current_word = ''\n",
    "\n",
    "    # 遍历文本中的每个字符\n",
    "    for char in text:\n",
    "        if char in delimiters:\n",
    "            # 如果当前单词不为空，将其添加到单词列表中\n",
    "            if current_word:\n",
    "                words.append(current_word)\n",
    "                current_word = ''\n",
    "            \n",
    "            # 如果当前字符是分割符号，将其作为单独的单词添加到单词列表中\n",
    "            if char != ' ':\n",
    "                words.append(char)\n",
    "        else:\n",
    "            # 如果当前字符不是分割符号，将其追加到当前单词中\n",
    "            current_word += char\n",
    "\n",
    "    # 如果最后一个单词不为空，将其添加到单词列表中\n",
    "    if current_word:\n",
    "        words.append(current_word)\n",
    "\n",
    "    return words"
   ]
  },
  {
   "cell_type": "code",
   "execution_count": 10,
   "metadata": {},
   "outputs": [],
   "source": [
    "en_path = '/Users/liuchu/linear_algebra_strang/translate/中英翻译数据集/train/news-commentary-v13.zh-en.en'\n",
    "zh_path = '/Users/liuchu/linear_algebra_strang/translate/中英翻译数据集/train/news-commentary-v13.zh-en.zh'"
   ]
  },
  {
   "cell_type": "code",
   "execution_count": 11,
   "metadata": {},
   "outputs": [],
   "source": [
    "def get_en_sentences():\n",
    "    arr = []\n",
    "    with open(en_path,'r') as f:\n",
    "        count = 0\n",
    "        for line in f.readlines():\n",
    "            arr.append(tokenize(line.strip()))\n",
    "    return arr"
   ]
  },
  {
   "cell_type": "code",
   "execution_count": 12,
   "metadata": {},
   "outputs": [],
   "source": [
    "def get_zh_sentences():\n",
    "    arr = []\n",
    "    with open(zh_path,'r') as f:\n",
    "        count = 0\n",
    "        for line in f.readlines():\n",
    "            arr.append(line.strip().split())\n",
    "    return arr"
   ]
  },
  {
   "cell_type": "code",
   "execution_count": 13,
   "metadata": {},
   "outputs": [],
   "source": [
    "en_sentences = get_en_sentences()\n",
    "zh_sentences = get_zh_sentences()"
   ]
  },
  {
   "cell_type": "code",
   "execution_count": 14,
   "metadata": {},
   "outputs": [],
   "source": [
    "src_sentences = en_sentences\n",
    "target_sentences = zh_sentences"
   ]
  },
  {
   "cell_type": "code",
   "execution_count": 15,
   "metadata": {},
   "outputs": [],
   "source": [
    "src_vocab = {'<pad>': 0, '<sos>': 1, '<eos>': 2}\n",
    "src_set = list(set(word  for sentence in src_sentences for word in sentence))\n",
    "for i,word in enumerate(src_set):\n",
    "    src_vocab[word] = 1 + len(src_vocab)"
   ]
  },
  {
   "cell_type": "code",
   "execution_count": 16,
   "metadata": {},
   "outputs": [
    {
     "data": {
      "text/plain": [
       "97323"
      ]
     },
     "execution_count": 16,
     "metadata": {},
     "output_type": "execute_result"
    }
   ],
   "source": [
    "len(src_set)"
   ]
  },
  {
   "cell_type": "code",
   "execution_count": 17,
   "metadata": {},
   "outputs": [],
   "source": [
    "target_vocab = {'<pad>': 0, '<sos>': 1, '<eos>': 2}\n",
    "target_set = list(set(word  for sentence in target_sentences for word in sentence))\n",
    "for i,word in enumerate(target_set):\n",
    "    target_vocab[word] = 1 + len(target_vocab)"
   ]
  },
  {
   "cell_type": "code",
   "execution_count": 18,
   "metadata": {},
   "outputs": [
    {
     "data": {
      "text/plain": [
       "93262"
      ]
     },
     "execution_count": 18,
     "metadata": {},
     "output_type": "execute_result"
    }
   ],
   "source": [
    "len(target_set)"
   ]
  },
  {
   "cell_type": "code",
   "execution_count": 19,
   "metadata": {},
   "outputs": [],
   "source": [
    "src_index = []\n",
    "for sen in src_sentences:\n",
    "    src_index.append([src_vocab[word] for word in sen])"
   ]
  },
  {
   "cell_type": "code",
   "execution_count": 20,
   "metadata": {},
   "outputs": [],
   "source": [
    "target_index = []\n",
    "for sen in target_sentences:\n",
    "    target_index.append([target_vocab[word] for word in sen])"
   ]
  },
  {
   "cell_type": "code",
   "execution_count": null,
   "metadata": {},
   "outputs": [],
   "source": []
  },
  {
   "cell_type": "code",
   "execution_count": 24,
   "metadata": {},
   "outputs": [],
   "source": [
    "import torch\n",
    "import torch.nn as nn\n",
    "import torch.optim as optim\n",
    "\n",
    "\n",
    "# 模型参数\n",
    "input_size = len(src_vocab)\n",
    "output_size = len(target_vocab)\n",
    "hidden_size = 256\n",
    "\n",
    "# 初始化模型\n",
    "encoder = Encoder(input_size, hidden_size)\n",
    "decoder = Decoder(hidden_size, output_size)\n",
    "\n",
    "# 损失函数和优化器\n",
    "criterion = nn.NLLLoss()\n",
    "encoder_optimizer = optim.Adam(encoder.parameters(), lr=0.001)\n",
    "decoder_optimizer = optim.Adam(decoder.parameters(), lr=0.001)\n",
    "\n",
    "# train 函数定义\n",
    "def train(input_tensor, target_tensor, encoder, decoder, encoder_optimizer, decoder_optimizer, criterion, max_length):\n",
    "\n",
    "    #### input_tensor Batch Seqlen\n",
    "    # print('input_tensor, target_tensor ....',input_tensor.shape, target_tensor.shape)\n",
    "    # encoder_hidden = encoder.initHidden()\n",
    "    # print('encoder_hidden,,,,',encoder_hidden[0].shape)\n",
    "\n",
    "    encoder_optimizer.zero_grad()\n",
    "    decoder_optimizer.zero_grad()\n",
    "\n",
    "    input_length = input_tensor.size(0)\n",
    "    target_length = target_tensor.size(0)\n",
    "    # print('target_length',target_length)\n",
    "    loss = 0\n",
    "    # for ei in range(input_length):\n",
    "    encoder_output, encoder_hidden = encoder(input_tensor.unsqueeze(0))\n",
    "    # print('encoder_output',encoder_output.shape)\n",
    "    \n",
    "    decoder_input = torch.tensor([[target_vocab['<sos>']]])\n",
    "    decoder_hidden = encoder_hidden\n",
    "\n",
    "    arr = []\n",
    "    for di in range(target_length+1):\n",
    "        decoder_output, decoder_hidden = decoder(decoder_input, decoder_hidden)\n",
    "        topv, topi = decoder_output.topk(1)\n",
    "        decoder_input = topi.squeeze(0).detach()\n",
    "        arr.append(decoder_output.squeeze(0))\n",
    "    t = torch.cat([target_tensor,torch.tensor([target_vocab['<eos>']])])\n",
    "    p = torch.cat(arr)\n",
    "    loss = criterion(p,t)\n",
    "    loss.backward()\n",
    "\n",
    "    encoder_optimizer.step()\n",
    "    decoder_optimizer.step()\n",
    "\n",
    "    return loss.item() / target_length\n",
    "\n"
   ]
  },
  {
   "cell_type": "code",
   "execution_count": 25,
   "metadata": {},
   "outputs": [
    {
     "name": "stdout",
     "output_type": "stream",
     "text": [
      "Training Loss: 1.9042\n",
      "Training Loss: 1.8634\n",
      "Training Loss: 1.8232\n",
      "Training Loss: 1.7664\n",
      "Training Loss: 1.6960\n",
      "Training Loss: 1.6123\n",
      "Training Loss: 1.5184\n",
      "Training Loss: 1.4190\n",
      "Training Loss: 1.3170\n",
      "Training Loss: 1.2132\n",
      "Training Loss: 1.1081\n",
      "Training Loss: 1.0023\n",
      "Training Loss: 0.8969\n",
      "Training Loss: 0.7936\n",
      "Training Loss: 0.6948\n",
      "Training Loss: 0.6027\n",
      "Training Loss: 0.5203\n",
      "Training Loss: 0.4503\n",
      "Training Loss: 0.3933\n",
      "Training Loss: 0.3480\n",
      "Training Loss: 0.3116\n",
      "Training Loss: 0.2811\n",
      "Training Loss: 0.2550\n",
      "Training Loss: 0.2326\n",
      "Training Loss: 0.2136\n",
      "Training Loss: 0.1980\n",
      "Training Loss: 0.1855\n",
      "Training Loss: 0.1765\n",
      "Training Loss: 0.1700\n",
      "Training Loss: 0.1662\n",
      "Training Loss: 0.1634\n",
      "Training Loss: 0.1597\n",
      "Training Loss: 0.1564\n",
      "Training Loss: 0.1549\n",
      "Training Loss: 0.1539\n",
      "Training Loss: 0.1516\n",
      "Training Loss: 0.1512\n",
      "Training Loss: 0.1486\n",
      "Training Loss: 0.1454\n",
      "Training Loss: 0.1424\n",
      "Training Loss: 0.1389\n",
      "Training Loss: 0.1360\n",
      "Training Loss: 0.1332\n",
      "Training Loss: 0.1418\n",
      "Training Loss: 0.1393\n",
      "Training Loss: 0.1366\n",
      "Training Loss: 0.1351\n",
      "Training Loss: 0.1307\n",
      "Training Loss: 0.1235\n",
      "Training Loss: 0.1213\n",
      "Training Loss: 0.1182\n",
      "Training Loss: 0.1153\n",
      "Training Loss: 0.1128\n",
      "Training Loss: 0.1102\n",
      "Training Loss: 0.1076\n",
      "Training Loss: 0.1043\n",
      "Training Loss: 0.1012\n",
      "Training Loss: 0.0982\n",
      "Training Loss: 0.0953\n",
      "Training Loss: 0.0924\n",
      "Training Loss: 0.0896\n",
      "Training Loss: 0.0868\n",
      "Training Loss: 0.0838\n",
      "Training Loss: 0.0809\n",
      "Training Loss: 0.0782\n",
      "Training Loss: 0.0757\n",
      "Training Loss: 0.0736\n",
      "Training Loss: 0.0716\n",
      "Training Loss: 0.0695\n",
      "Training Loss: 0.0674\n",
      "Training Loss: 0.0652\n",
      "Training Loss: 0.0631\n",
      "Training Loss: 0.0611\n",
      "Training Loss: 0.0591\n",
      "Training Loss: 0.0573\n",
      "Training Loss: 0.0555\n",
      "Training Loss: 0.0537\n",
      "Training Loss: 0.0520\n",
      "Training Loss: 0.0503\n",
      "Training Loss: 0.0486\n",
      "Training Loss: 0.0469\n",
      "Training Loss: 0.0453\n",
      "Training Loss: 0.0438\n",
      "Training Loss: 0.0423\n",
      "Training Loss: 0.0409\n",
      "Training Loss: 0.0395\n",
      "Training Loss: 0.0381\n",
      "Training Loss: 0.0369\n",
      "Training Loss: 0.0356\n",
      "Training Loss: 0.0345\n",
      "Training Loss: 0.0334\n",
      "Training Loss: 0.0323\n",
      "Training Loss: 0.0313\n",
      "Training Loss: 0.0304\n",
      "Training Loss: 0.0295\n",
      "Training Loss: 0.0286\n",
      "Training Loss: 0.0278\n",
      "Training Loss: 0.0270\n",
      "Training Loss: 0.0262\n",
      "Training Loss: 0.0255\n"
     ]
    }
   ],
   "source": [
    "for e in range(100):\n",
    "    for i in range(1):\n",
    "        src_tensor = torch.tensor(src_index[i])\n",
    "        tgt_tensor = torch.tensor(target_index[i])\n",
    "        # print(src_tensor,tgt_tensor)\n",
    "        loss = train(src_tensor, tgt_tensor, encoder, decoder, encoder_optimizer, decoder_optimizer, criterion, max_length=10)\n",
    "        print(f'Training Loss: {loss:.4f}')"
   ]
  },
  {
   "cell_type": "code",
   "execution_count": 26,
   "metadata": {},
   "outputs": [],
   "source": [
    "# train 函数定义\n",
    "def predict(encoder, decoder, input_tensor,target_length=100):\n",
    "    encoder_optimizer.zero_grad()\n",
    "    decoder_optimizer.zero_grad()\n",
    "    input_length = input_tensor.size(0)\n",
    "    loss = 0\n",
    "    encoder_output, encoder_hidden = encoder(input_tensor.unsqueeze(0))    \n",
    "    decoder_input = torch.tensor([[target_vocab['<sos>']]])\n",
    "    decoder_hidden = encoder_hidden\n",
    "    arr = []\n",
    "    for di in range(target_length):\n",
    "        decoder_output, decoder_hidden = decoder(decoder_input, decoder_hidden)\n",
    "        topv, topi = decoder_output.topk(1)\n",
    "        decoder_input = topi.squeeze(0).detach()\n",
    "        # print(topi)\n",
    "        if topi.squeeze().item() == target_vocab['<eos>']:\n",
    "            print('end of sentence....')\n",
    "            break\n",
    "        else:\n",
    "            arr.append(target_set[topi.squeeze().item()])\n",
    "    print('ans....',arr)"
   ]
  },
  {
   "cell_type": "code",
   "execution_count": 27,
   "metadata": {},
   "outputs": [
    {
     "data": {
      "text/plain": [
       "[93940, 61794, 10907, 97207]"
      ]
     },
     "execution_count": 27,
     "metadata": {},
     "output_type": "execute_result"
    }
   ],
   "source": [
    "src_index[0]"
   ]
  },
  {
   "cell_type": "code",
   "execution_count": 28,
   "metadata": {},
   "outputs": [
    {
     "name": "stdout",
     "output_type": "stream",
     "text": [
      "end of sentence....\n",
      "ans.... ['哀痛', '低收入', '缄默', '掐死', '低收入', '年供']\n"
     ]
    }
   ],
   "source": [
    "input_tensor = torch.tensor(src_index[0])\n",
    "predict(encoder, decoder, input_tensor,target_length=100)"
   ]
  },
  {
   "cell_type": "markdown",
   "metadata": {},
   "source": [
    "# 版本2 使用batch_len进行实验"
   ]
  },
  {
   "cell_type": "code",
   "execution_count": null,
   "metadata": {},
   "outputs": [],
   "source": [
    "def get_total_data(sentences):\n",
    "    max_en_len = max(len(sentence) for sentence in en_sentences)\n",
    "    "
   ]
  },
  {
   "cell_type": "code",
   "execution_count": 29,
   "metadata": {},
   "outputs": [],
   "source": [
    "### 致谢"
   ]
  },
  {
   "cell_type": "code",
   "execution_count": 3,
   "metadata": {},
   "outputs": [
    {
     "ename": "RuntimeError",
     "evalue": "For unbatched 2-D input, hx and cx should also be 2-D but got (3-D, 3-D) tensors",
     "output_type": "error",
     "traceback": [
      "\u001b[0;31m---------------------------------------------------------------------------\u001b[0m",
      "\u001b[0;31mRuntimeError\u001b[0m                              Traceback (most recent call last)",
      "\u001b[0;32m<ipython-input-3-e9d7c9eeb55c>\u001b[0m in \u001b[0;36m<module>\u001b[0;34m\u001b[0m\n\u001b[1;32m     81\u001b[0m     \u001b[0;32mfor\u001b[0m \u001b[0minput_tensor\u001b[0m\u001b[0;34m,\u001b[0m \u001b[0mtarget_tensor\u001b[0m \u001b[0;32min\u001b[0m \u001b[0mzip\u001b[0m\u001b[0;34m(\u001b[0m\u001b[0minput_tensors\u001b[0m\u001b[0;34m,\u001b[0m \u001b[0mtarget_tensors\u001b[0m\u001b[0;34m)\u001b[0m\u001b[0;34m:\u001b[0m\u001b[0;34m\u001b[0m\u001b[0;34m\u001b[0m\u001b[0m\n\u001b[1;32m     82\u001b[0m         \u001b[0moptimizer\u001b[0m\u001b[0;34m.\u001b[0m\u001b[0mzero_grad\u001b[0m\u001b[0;34m(\u001b[0m\u001b[0;34m)\u001b[0m\u001b[0;34m\u001b[0m\u001b[0;34m\u001b[0m\u001b[0m\n\u001b[0;32m---> 83\u001b[0;31m         \u001b[0moutput\u001b[0m \u001b[0;34m=\u001b[0m \u001b[0mmodel\u001b[0m\u001b[0;34m(\u001b[0m\u001b[0minput_tensor\u001b[0m\u001b[0;34m,\u001b[0m \u001b[0mtarget_tensor\u001b[0m\u001b[0;34m)\u001b[0m\u001b[0;34m\u001b[0m\u001b[0;34m\u001b[0m\u001b[0m\n\u001b[0m\u001b[1;32m     84\u001b[0m         \u001b[0moutput\u001b[0m \u001b[0;34m=\u001b[0m \u001b[0moutput\u001b[0m\u001b[0;34m.\u001b[0m\u001b[0mview\u001b[0m\u001b[0;34m(\u001b[0m\u001b[0;34m-\u001b[0m\u001b[0;36m1\u001b[0m\u001b[0;34m,\u001b[0m \u001b[0mchinese_vocab_size\u001b[0m\u001b[0;34m)\u001b[0m\u001b[0;34m\u001b[0m\u001b[0;34m\u001b[0m\u001b[0m\n\u001b[1;32m     85\u001b[0m         \u001b[0mtarget\u001b[0m \u001b[0;34m=\u001b[0m \u001b[0mtarget_tensor\u001b[0m\u001b[0;34m.\u001b[0m\u001b[0mview\u001b[0m\u001b[0;34m(\u001b[0m\u001b[0;34m-\u001b[0m\u001b[0;36m1\u001b[0m\u001b[0;34m)\u001b[0m\u001b[0;34m.\u001b[0m\u001b[0mlong\u001b[0m\u001b[0;34m(\u001b[0m\u001b[0;34m)\u001b[0m\u001b[0;34m\u001b[0m\u001b[0;34m\u001b[0m\u001b[0m\n",
      "\u001b[0;32m~/opt/miniconda3/lib/python3.7/site-packages/torch/nn/modules/module.py\u001b[0m in \u001b[0;36m_call_impl\u001b[0;34m(self, *input, **kwargs)\u001b[0m\n\u001b[1;32m   1128\u001b[0m         if not (self._backward_hooks or self._forward_hooks or self._forward_pre_hooks or _global_backward_hooks\n\u001b[1;32m   1129\u001b[0m                 or _global_forward_hooks or _global_forward_pre_hooks):\n\u001b[0;32m-> 1130\u001b[0;31m             \u001b[0;32mreturn\u001b[0m \u001b[0mforward_call\u001b[0m\u001b[0;34m(\u001b[0m\u001b[0;34m*\u001b[0m\u001b[0minput\u001b[0m\u001b[0;34m,\u001b[0m \u001b[0;34m**\u001b[0m\u001b[0mkwargs\u001b[0m\u001b[0;34m)\u001b[0m\u001b[0;34m\u001b[0m\u001b[0;34m\u001b[0m\u001b[0m\n\u001b[0m\u001b[1;32m   1131\u001b[0m         \u001b[0;31m# Do not call functions when jit is used\u001b[0m\u001b[0;34m\u001b[0m\u001b[0;34m\u001b[0m\u001b[0;34m\u001b[0m\u001b[0m\n\u001b[1;32m   1132\u001b[0m         \u001b[0mfull_backward_hooks\u001b[0m\u001b[0;34m,\u001b[0m \u001b[0mnon_full_backward_hooks\u001b[0m \u001b[0;34m=\u001b[0m \u001b[0;34m[\u001b[0m\u001b[0;34m]\u001b[0m\u001b[0;34m,\u001b[0m \u001b[0;34m[\u001b[0m\u001b[0;34m]\u001b[0m\u001b[0;34m\u001b[0m\u001b[0;34m\u001b[0m\u001b[0m\n",
      "\u001b[0;32m<ipython-input-3-e9d7c9eeb55c>\u001b[0m in \u001b[0;36mforward\u001b[0;34m(self, input_seq, target_seq, teacher_forcing_ratio)\u001b[0m\n\u001b[1;32m     22\u001b[0m \u001b[0;34m\u001b[0m\u001b[0m\n\u001b[1;32m     23\u001b[0m         \u001b[0;32mfor\u001b[0m \u001b[0mt\u001b[0m \u001b[0;32min\u001b[0m \u001b[0mrange\u001b[0m\u001b[0;34m(\u001b[0m\u001b[0mtarget_len\u001b[0m\u001b[0;34m)\u001b[0m\u001b[0;34m:\u001b[0m\u001b[0;34m\u001b[0m\u001b[0;34m\u001b[0m\u001b[0m\n\u001b[0;32m---> 24\u001b[0;31m             \u001b[0mout\u001b[0m\u001b[0;34m,\u001b[0m \u001b[0;34m(\u001b[0m\u001b[0mhidden\u001b[0m\u001b[0;34m,\u001b[0m \u001b[0mcell\u001b[0m\u001b[0;34m)\u001b[0m \u001b[0;34m=\u001b[0m \u001b[0mself\u001b[0m\u001b[0;34m.\u001b[0m\u001b[0mdecoder\u001b[0m\u001b[0;34m(\u001b[0m\u001b[0minput_decoder\u001b[0m\u001b[0;34m,\u001b[0m \u001b[0;34m(\u001b[0m\u001b[0mhidden\u001b[0m\u001b[0;34m,\u001b[0m \u001b[0mcell\u001b[0m\u001b[0;34m)\u001b[0m\u001b[0;34m)\u001b[0m\u001b[0;34m\u001b[0m\u001b[0;34m\u001b[0m\u001b[0m\n\u001b[0m\u001b[1;32m     25\u001b[0m             \u001b[0mout\u001b[0m \u001b[0;34m=\u001b[0m \u001b[0mself\u001b[0m\u001b[0;34m.\u001b[0m\u001b[0mout\u001b[0m\u001b[0;34m(\u001b[0m\u001b[0mout\u001b[0m\u001b[0;34m.\u001b[0m\u001b[0msqueeze\u001b[0m\u001b[0;34m(\u001b[0m\u001b[0;36m0\u001b[0m\u001b[0;34m)\u001b[0m\u001b[0;34m)\u001b[0m\u001b[0;34m\u001b[0m\u001b[0;34m\u001b[0m\u001b[0m\n\u001b[1;32m     26\u001b[0m             \u001b[0moutputs\u001b[0m\u001b[0;34m[\u001b[0m\u001b[0mt\u001b[0m\u001b[0;34m]\u001b[0m \u001b[0;34m=\u001b[0m \u001b[0mout\u001b[0m\u001b[0;34m\u001b[0m\u001b[0;34m\u001b[0m\u001b[0m\n",
      "\u001b[0;32m~/opt/miniconda3/lib/python3.7/site-packages/torch/nn/modules/module.py\u001b[0m in \u001b[0;36m_call_impl\u001b[0;34m(self, *input, **kwargs)\u001b[0m\n\u001b[1;32m   1128\u001b[0m         if not (self._backward_hooks or self._forward_hooks or self._forward_pre_hooks or _global_backward_hooks\n\u001b[1;32m   1129\u001b[0m                 or _global_forward_hooks or _global_forward_pre_hooks):\n\u001b[0;32m-> 1130\u001b[0;31m             \u001b[0;32mreturn\u001b[0m \u001b[0mforward_call\u001b[0m\u001b[0;34m(\u001b[0m\u001b[0;34m*\u001b[0m\u001b[0minput\u001b[0m\u001b[0;34m,\u001b[0m \u001b[0;34m**\u001b[0m\u001b[0mkwargs\u001b[0m\u001b[0;34m)\u001b[0m\u001b[0;34m\u001b[0m\u001b[0;34m\u001b[0m\u001b[0m\n\u001b[0m\u001b[1;32m   1131\u001b[0m         \u001b[0;31m# Do not call functions when jit is used\u001b[0m\u001b[0;34m\u001b[0m\u001b[0;34m\u001b[0m\u001b[0;34m\u001b[0m\u001b[0m\n\u001b[1;32m   1132\u001b[0m         \u001b[0mfull_backward_hooks\u001b[0m\u001b[0;34m,\u001b[0m \u001b[0mnon_full_backward_hooks\u001b[0m \u001b[0;34m=\u001b[0m \u001b[0;34m[\u001b[0m\u001b[0;34m]\u001b[0m\u001b[0;34m,\u001b[0m \u001b[0;34m[\u001b[0m\u001b[0;34m]\u001b[0m\u001b[0;34m\u001b[0m\u001b[0;34m\u001b[0m\u001b[0m\n",
      "\u001b[0;32m~/opt/miniconda3/lib/python3.7/site-packages/torch/nn/modules/rnn.py\u001b[0m in \u001b[0;36mforward\u001b[0;34m(self, input, hx)\u001b[0m\n\u001b[1;32m    758\u001b[0m                         msg = (\"For unbatched 2-D input, hx and cx should \"\n\u001b[1;32m    759\u001b[0m                                f\"also be 2-D but got ({hx[0].dim()}-D, {hx[1].dim()}-D) tensors\")\n\u001b[0;32m--> 760\u001b[0;31m                         \u001b[0;32mraise\u001b[0m \u001b[0mRuntimeError\u001b[0m\u001b[0;34m(\u001b[0m\u001b[0mmsg\u001b[0m\u001b[0;34m)\u001b[0m\u001b[0;34m\u001b[0m\u001b[0;34m\u001b[0m\u001b[0m\n\u001b[0m\u001b[1;32m    761\u001b[0m                     \u001b[0mhx\u001b[0m \u001b[0;34m=\u001b[0m \u001b[0;34m(\u001b[0m\u001b[0mhx\u001b[0m\u001b[0;34m[\u001b[0m\u001b[0;36m0\u001b[0m\u001b[0;34m]\u001b[0m\u001b[0;34m.\u001b[0m\u001b[0munsqueeze\u001b[0m\u001b[0;34m(\u001b[0m\u001b[0;36m1\u001b[0m\u001b[0;34m)\u001b[0m\u001b[0;34m,\u001b[0m \u001b[0mhx\u001b[0m\u001b[0;34m[\u001b[0m\u001b[0;36m1\u001b[0m\u001b[0;34m]\u001b[0m\u001b[0;34m.\u001b[0m\u001b[0munsqueeze\u001b[0m\u001b[0;34m(\u001b[0m\u001b[0;36m1\u001b[0m\u001b[0;34m)\u001b[0m\u001b[0;34m)\u001b[0m\u001b[0;34m\u001b[0m\u001b[0;34m\u001b[0m\u001b[0m\n\u001b[1;32m    762\u001b[0m \u001b[0;34m\u001b[0m\u001b[0m\n",
      "\u001b[0;31mRuntimeError\u001b[0m: For unbatched 2-D input, hx and cx should also be 2-D but got (3-D, 3-D) tensors"
     ]
    }
   ],
   "source": [
    "import torch\n",
    "import torch.nn as nn\n",
    "import torch.optim as optim\n",
    "\n",
    "class Seq2Seq(nn.Module):\n",
    "    def __init__(self, input_size, hidden_size, output_size):\n",
    "        super(Seq2Seq, self).__init__()\n",
    "        self.hidden_size = hidden_size\n",
    "        self.encoder = nn.LSTM(input_size, hidden_size)\n",
    "        self.decoder = nn.LSTM(hidden_size, hidden_size)\n",
    "        self.out = nn.Linear(hidden_size, output_size)\n",
    "\n",
    "    def forward(self, input_seq, target_seq, teacher_forcing_ratio=0.5):\n",
    "        batch_size = target_seq.shape[1]\n",
    "        target_len = target_seq.shape[0]\n",
    "        output_size = self.out.out_features\n",
    "\n",
    "        outputs = torch.zeros(target_len, batch_size, output_size)\n",
    "\n",
    "        _, (hidden, cell) = self.encoder(input_seq)\n",
    "        input_decoder = hidden.permute(1, 0, 2)\n",
    "\n",
    "        for t in range(target_len):\n",
    "            out, (hidden, cell) = self.decoder(input_decoder, (hidden, cell))\n",
    "            out = self.out(out.squeeze(0))\n",
    "            outputs[t] = out\n",
    "\n",
    "            teacher_force = torch.rand(1).item() < teacher_forcing_ratio\n",
    "            top1 = out.argmax(1)\n",
    "            input_decoder = target_seq[t] if teacher_force else top1.unsqueeze(0)\n",
    "\n",
    "        return outputs\n",
    "\n",
    "# 训练集示例\n",
    "english_sentences = [\n",
    "    \"I love you.\",\n",
    "    \"She likes reading books.\",\n",
    "    \"He is playing football.\",\n",
    "    \"They are going to school.\",\n",
    "    \"We have a meeting tomorrow.\"\n",
    "]\n",
    "\n",
    "chinese_sentences = [\n",
    "    \"我 爱 你 。\",\n",
    "    \"她 喜欢 看书 。\",\n",
    "    \"他 正在 踢 足球 。\",\n",
    "    \"他们 正在 去 学校 的 路上。\",\n",
    "    \"我们 明天 有 一个 会议。\"\n",
    "]\n",
    "\n",
    "# 构建词汇表\n",
    "english_vocab = set(word for sentence in english_sentences for word in sentence.split())\n",
    "chinese_vocab = set(char for sentence in chinese_sentences for char in sentence.split())\n",
    "\n",
    "english_word2idx = {word: idx for idx, word in enumerate(english_vocab)}\n",
    "chinese_word2idx = {char: idx for idx, char in enumerate(chinese_vocab)}\n",
    "\n",
    "english_vocab_size = len(english_word2idx)\n",
    "chinese_vocab_size = len(chinese_word2idx)\n",
    "\n",
    "# 将句子转换为张量\n",
    "def sentence_to_tensor(sentence, word2idx):\n",
    "    tensor = torch.zeros(len(sentence.split()), 1, len(word2idx))\n",
    "    for i, word in enumerate(sentence.split()):\n",
    "        tensor[i][0][word2idx[word]] = 1\n",
    "    return tensor\n",
    "\n",
    "input_tensors = [sentence_to_tensor(sentence, english_word2idx) for sentence in english_sentences]\n",
    "target_tensors = [sentence_to_tensor(sentence, chinese_word2idx) for sentence in chinese_sentences]\n",
    "\n",
    "# 训练模型\n",
    "hidden_size = 128\n",
    "learning_rate = 0.01\n",
    "epochs = 100\n",
    "\n",
    "model = Seq2Seq(english_vocab_size, hidden_size, chinese_vocab_size)\n",
    "criterion = nn.CrossEntropyLoss()\n",
    "optimizer = optim.Adam(model.parameters(), lr=learning_rate)\n",
    "\n",
    "for epoch in range(epochs):\n",
    "    for input_tensor, target_tensor in zip(input_tensors, target_tensors):\n",
    "        optimizer.zero_grad()\n",
    "        output = model(input_tensor, target_tensor)\n",
    "        output = output.view(-1, chinese_vocab_size)\n",
    "        target = target_tensor.view(-1).long()\n",
    "        loss = criterion(output, target)\n",
    "        loss.backward()\n",
    "        optimizer.step()\n",
    "\n",
    "    print(f'Epoch [{epoch+1}/{epochs}], Loss: {loss.item():.4f}')"
   ]
  },
  {
   "cell_type": "code",
   "execution_count": null,
   "metadata": {},
   "outputs": [],
   "source": []
  },
  {
   "cell_type": "code",
   "execution_count": null,
   "metadata": {},
   "outputs": [],
   "source": []
  }
 ],
 "metadata": {
  "kernelspec": {
   "display_name": "Python 3",
   "language": "python",
   "name": "python3"
  },
  "language_info": {
   "codemirror_mode": {
    "name": "ipython",
    "version": 3
   },
   "file_extension": ".py",
   "mimetype": "text/x-python",
   "name": "python",
   "nbconvert_exporter": "python",
   "pygments_lexer": "ipython3",
   "version": "3.7.13"
  }
 },
 "nbformat": 4,
 "nbformat_minor": 5
}
