{
 "cells": [
  {
   "cell_type": "code",
   "execution_count": 92,
   "id": "b5405312",
   "metadata": {},
   "outputs": [],
   "source": [
    "import numpy as np"
   ]
  },
  {
   "cell_type": "code",
   "execution_count": 93,
   "id": "b50a06bf",
   "metadata": {},
   "outputs": [],
   "source": [
    "mat = np.array(\n",
    "[\n",
    "    [1,2,3.0],\n",
    "    [1,5,7],\n",
    "    [7,8,9]\n",
    "])"
   ]
  },
  {
   "cell_type": "code",
   "execution_count": 94,
   "id": "808dace2",
   "metadata": {},
   "outputs": [
    {
     "data": {
      "text/plain": [
       "array([[1., 2., 3.],\n",
       "       [1., 5., 7.],\n",
       "       [7., 8., 9.]])"
      ]
     },
     "execution_count": 94,
     "metadata": {},
     "output_type": "execute_result"
    }
   ],
   "source": [
    "mat"
   ]
  },
  {
   "cell_type": "code",
   "execution_count": 95,
   "id": "c297ab41",
   "metadata": {},
   "outputs": [],
   "source": [
    "m,n = mat.shape"
   ]
  },
  {
   "cell_type": "code",
   "execution_count": 96,
   "id": "5c9d05c2",
   "metadata": {},
   "outputs": [
    {
     "data": {
      "text/plain": [
       "(3, 3)"
      ]
     },
     "execution_count": 96,
     "metadata": {},
     "output_type": "execute_result"
    }
   ],
   "source": [
    "m,n"
   ]
  },
  {
   "cell_type": "code",
   "execution_count": 97,
   "id": "2b0d98cc",
   "metadata": {},
   "outputs": [],
   "source": [
    "Q = np.zeros((m,n))"
   ]
  },
  {
   "cell_type": "code",
   "execution_count": 98,
   "id": "f0fc7596",
   "metadata": {},
   "outputs": [
    {
     "name": "stdout",
     "output_type": "stream",
     "text": [
      "[1. 1. 7.]\n",
      "-\n",
      "[2. 5. 8.]\n",
      "-\n",
      "[3. 7. 9.]\n",
      "-\n"
     ]
    }
   ],
   "source": [
    "for j in range(n):\n",
    "    print(mat[:,j])\n",
    "    print('-')"
   ]
  },
  {
   "cell_type": "code",
   "execution_count": 99,
   "id": "6f8c300c",
   "metadata": {},
   "outputs": [
    {
     "data": {
      "text/plain": [
       "32"
      ]
     },
     "execution_count": 99,
     "metadata": {},
     "output_type": "execute_result"
    }
   ],
   "source": [
    "a1 = np.array([1,2,3])\n",
    "a2 = np.array([4,5,6])\n",
    "a1 @ a2"
   ]
  },
  {
   "cell_type": "code",
   "execution_count": 100,
   "id": "b456603e",
   "metadata": {},
   "outputs": [],
   "source": [
    "def make_q(Q,a):\n",
    "    if Q is not None:\n",
    "        a -= Q @ Q.T @ a\n",
    "    a = a / ((a ** 2).sum()**0.5)\n",
    "    if Q is None:\n",
    "        Q = a.reshape(-1,1)\n",
    "    else:\n",
    "        Q = np.concatenate([Q,a],axis=1)\n",
    "    return Q,a"
   ]
  },
  {
   "cell_type": "code",
   "execution_count": 101,
   "id": "61cf5dd9",
   "metadata": {},
   "outputs": [
    {
     "name": "stdout",
     "output_type": "stream",
     "text": [
      "[[0.14002801]\n",
      " [0.14002801]\n",
      " [0.98019606]] [[0.14002801]\n",
      " [0.14002801]\n",
      " [0.98019606]]\n",
      "[[ 0.14002801  0.19629491]\n",
      " [ 0.14002801  0.96637494]\n",
      " [ 0.98019606 -0.16609569]] [[ 0.19629491]\n",
      " [ 0.96637494]\n",
      " [-0.16609569]]\n",
      "[[ 0.14002801  0.19629491  0.97049496]\n",
      " [ 0.14002801  0.96637494 -0.21566555]\n",
      " [ 0.98019606 -0.16609569 -0.10783277]] [[ 0.97049496]\n",
      " [-0.21566555]\n",
      " [-0.10783277]]\n"
     ]
    }
   ],
   "source": [
    "Q = None\n",
    "for j in range(n):\n",
    "    a = mat[:,j].reshape(-1,1).copy()\n",
    "    Q,a = make_q(Q,a)\n",
    "    print(Q,a)"
   ]
  },
  {
   "cell_type": "code",
   "execution_count": 102,
   "id": "175f46b4",
   "metadata": {},
   "outputs": [
    {
     "data": {
      "text/plain": [
       "array([[1., 2., 3.],\n",
       "       [1., 5., 7.],\n",
       "       [7., 8., 9.]])"
      ]
     },
     "execution_count": 102,
     "metadata": {},
     "output_type": "execute_result"
    }
   ],
   "source": [
    "mat"
   ]
  },
  {
   "cell_type": "code",
   "execution_count": 103,
   "id": "60c0ffd8",
   "metadata": {},
   "outputs": [
    {
     "data": {
      "text/plain": [
       "array([[ 1.00000000e+00,  1.25900620e-16, -5.78237895e-16],\n",
       "       [ 1.25900620e-16,  1.00000000e+00, -2.39405306e-15],\n",
       "       [-5.78237895e-16, -2.39405306e-15,  1.00000000e+00]])"
      ]
     },
     "execution_count": 103,
     "metadata": {},
     "output_type": "execute_result"
    }
   ],
   "source": [
    "Q.T @ Q"
   ]
  },
  {
   "cell_type": "code",
   "execution_count": 104,
   "id": "d4968068",
   "metadata": {},
   "outputs": [],
   "source": [
    "R = Q.T @ mat"
   ]
  },
  {
   "cell_type": "code",
   "execution_count": 105,
   "id": "ed301ee5",
   "metadata": {},
   "outputs": [],
   "source": [
    "R[np.abs(R < 0.00001)] = 0"
   ]
  },
  {
   "cell_type": "code",
   "execution_count": 106,
   "id": "55503a73",
   "metadata": {},
   "outputs": [
    {
     "data": {
      "text/plain": [
       "array([[ 7.14142843,  8.82176453, 10.22204461],\n",
       "       [ 0.        ,  3.89569899,  5.85864809],\n",
       "       [ 0.        ,  0.        ,  0.43133109]])"
      ]
     },
     "execution_count": 106,
     "metadata": {},
     "output_type": "execute_result"
    }
   ],
   "source": [
    "R"
   ]
  },
  {
   "cell_type": "code",
   "execution_count": 107,
   "id": "3a9f633a",
   "metadata": {},
   "outputs": [
    {
     "data": {
      "text/plain": [
       "array([[1., 2., 3.],\n",
       "       [1., 5., 7.],\n",
       "       [7., 8., 9.]])"
      ]
     },
     "execution_count": 107,
     "metadata": {},
     "output_type": "execute_result"
    }
   ],
   "source": [
    "Q @ R"
   ]
  },
  {
   "cell_type": "code",
   "execution_count": 108,
   "id": "10bcbe0b",
   "metadata": {},
   "outputs": [
    {
     "data": {
      "text/plain": [
       "array([[ 1.00000000e+00,  1.25900620e-16, -5.78237895e-16],\n",
       "       [ 1.25900620e-16,  1.00000000e+00, -2.39405306e-15],\n",
       "       [-5.78237895e-16, -2.39405306e-15,  1.00000000e+00]])"
      ]
     },
     "execution_count": 108,
     "metadata": {},
     "output_type": "execute_result"
    }
   ],
   "source": [
    "Q.T @ Q"
   ]
  },
  {
   "cell_type": "code",
   "execution_count": 109,
   "id": "ffe67ae4",
   "metadata": {},
   "outputs": [],
   "source": [
    "R = Q.T @ mat"
   ]
  },
  {
   "cell_type": "code",
   "execution_count": 110,
   "id": "be18a083",
   "metadata": {},
   "outputs": [
    {
     "data": {
      "text/plain": [
       "array([[ 7.14142843e+00,  8.82176453e+00,  1.02220446e+01],\n",
       "       [ 8.88178420e-16,  3.89569899e+00,  5.85864809e+00],\n",
       "       [-4.06619183e-15, -1.45439216e-14,  4.31331093e-01]])"
      ]
     },
     "execution_count": 110,
     "metadata": {},
     "output_type": "execute_result"
    }
   ],
   "source": [
    "R"
   ]
  },
  {
   "cell_type": "code",
   "execution_count": 111,
   "id": "2151e9b9",
   "metadata": {},
   "outputs": [
    {
     "data": {
      "text/plain": [
       "array([[1., 2., 3.],\n",
       "       [1., 5., 7.],\n",
       "       [7., 8., 9.]])"
      ]
     },
     "execution_count": 111,
     "metadata": {},
     "output_type": "execute_result"
    }
   ],
   "source": [
    "Q.T @ Q @ mat"
   ]
  },
  {
   "cell_type": "code",
   "execution_count": 112,
   "id": "f8658039",
   "metadata": {},
   "outputs": [],
   "source": [
    "X = Q.T @ Q"
   ]
  },
  {
   "cell_type": "code",
   "execution_count": 113,
   "id": "034d13ac",
   "metadata": {},
   "outputs": [],
   "source": [
    "X[np.abs(X)<0.0000000001] = 0"
   ]
  },
  {
   "cell_type": "code",
   "execution_count": 114,
   "id": "33a4aeef",
   "metadata": {},
   "outputs": [
    {
     "data": {
      "text/plain": [
       "array([[1., 0., 0.],\n",
       "       [0., 1., 0.],\n",
       "       [0., 0., 1.]])"
      ]
     },
     "execution_count": 114,
     "metadata": {},
     "output_type": "execute_result"
    }
   ],
   "source": [
    "X"
   ]
  },
  {
   "cell_type": "code",
   "execution_count": 115,
   "id": "ed079ab2",
   "metadata": {},
   "outputs": [
    {
     "data": {
      "text/plain": [
       "array([[1., 2., 3.],\n",
       "       [1., 5., 7.],\n",
       "       [7., 8., 9.]])"
      ]
     },
     "execution_count": 115,
     "metadata": {},
     "output_type": "execute_result"
    }
   ],
   "source": [
    "X @ mat"
   ]
  },
  {
   "cell_type": "code",
   "execution_count": 116,
   "id": "9e83e989",
   "metadata": {},
   "outputs": [
    {
     "data": {
      "text/plain": [
       "array([[ 7.14142843e+00,  8.82176453e+00,  1.02220446e+01],\n",
       "       [ 8.88178420e-16,  3.89569899e+00,  5.85864809e+00],\n",
       "       [-4.06619183e-15, -1.45439216e-14,  4.31331093e-01]])"
      ]
     },
     "execution_count": 116,
     "metadata": {},
     "output_type": "execute_result"
    }
   ],
   "source": [
    "R"
   ]
  },
  {
   "cell_type": "code",
   "execution_count": 117,
   "id": "0689d14a",
   "metadata": {},
   "outputs": [],
   "source": [
    "R[np.abs(R) < 0.000001] = 0"
   ]
  },
  {
   "cell_type": "code",
   "execution_count": 118,
   "id": "aa6ad7e0",
   "metadata": {},
   "outputs": [
    {
     "data": {
      "text/plain": [
       "array([[ 7.14142843,  8.82176453, 10.22204461],\n",
       "       [ 0.        ,  3.89569899,  5.85864809],\n",
       "       [ 0.        ,  0.        ,  0.43133109]])"
      ]
     },
     "execution_count": 118,
     "metadata": {},
     "output_type": "execute_result"
    }
   ],
   "source": [
    "R"
   ]
  },
  {
   "cell_type": "code",
   "execution_count": null,
   "id": "de7726d3",
   "metadata": {},
   "outputs": [],
   "source": []
  }
 ],
 "metadata": {
  "kernelspec": {
   "display_name": "edu_ktm",
   "language": "python",
   "name": "edu_ktm"
  },
  "language_info": {
   "codemirror_mode": {
    "name": "ipython",
    "version": 3
   },
   "file_extension": ".py",
   "mimetype": "text/x-python",
   "name": "python",
   "nbconvert_exporter": "python",
   "pygments_lexer": "ipython3",
   "version": "3.9.16"
  }
 },
 "nbformat": 4,
 "nbformat_minor": 5
}
