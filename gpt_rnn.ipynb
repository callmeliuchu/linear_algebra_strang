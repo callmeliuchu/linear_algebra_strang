{
 "cells": [
  {
   "cell_type": "code",
   "execution_count": 33,
   "id": "74f06b4f",
   "metadata": {},
   "outputs": [],
   "source": [
    "import torch\n",
    "import torch.nn as nn\n",
    "\n",
    "class SimpleRNN(nn.Module):\n",
    "    \n",
    "    def __init__(self, input_size, hidden_size, output_size):\n",
    "        super(SimpleRNN, self).__init__()\n",
    "        self.hidden_size = hidden_size\n",
    "        # RNN layer\n",
    "        self.rnn = nn.RNN(input_size, hidden_size, batch_first=True)\n",
    "        # Fully connected layer\n",
    "        self.fc = nn.Sequential(\n",
    "            nn.Linear(hidden_size, output_size)\n",
    "            )\n",
    "        self.embedding = nn.Embedding(output_size, input_size)\n",
    "        self.sigmoid = nn.Sigmoid()\n",
    "        \n",
    "    def forward(self, x):\n",
    "        # x [batch_size, seq_len]\n",
    "        x = self.embedding(x) # batch seq_len \n",
    "        # Initialize hidden state with zeros\n",
    "        h0 = torch.zeros(1, x.size(0), self.hidden_size).to(x.device)\n",
    "\n",
    "        # RNN layer\n",
    "        out, _ = self.rnn(x, h0)\n",
    "\n",
    "        # Only take the output from the last time step\n",
    "#         out = out[:, -1, :]\n",
    "\n",
    "        # Fully connected layer\n",
    "        out = self.fc(out)\n",
    "        out = self.sigmoid(out)\n",
    "\n",
    "        return out"
   ]
  },
  {
   "cell_type": "code",
   "execution_count": 34,
   "id": "fcd01a70",
   "metadata": {},
   "outputs": [],
   "source": [
    "from data_process import *"
   ]
  },
  {
   "cell_type": "code",
   "execution_count": 35,
   "id": "e79c5221",
   "metadata": {},
   "outputs": [],
   "source": [
    "xx,yy=get_data(10)"
   ]
  },
  {
   "cell_type": "code",
   "execution_count": 36,
   "id": "ccf176c7",
   "metadata": {},
   "outputs": [
    {
     "data": {
      "text/plain": [
       "tensor([[ 66,  29,  27,  98,  59,  19,   6,  12,  46, 100],\n",
       "        [ 74,   7,  15,  16,  45,  20,  40,  71, 118,  77],\n",
       "        [ 10,  55,  68,  14,  70,  85,  36,  16,  59,  23],\n",
       "        [  1,  59,  53,  31, 110,  81,  16, 106,  88,  90],\n",
       "        [121,  16,  64,  39,  99, 105,  74, 113, 120,   2],\n",
       "        [ 95,   7,  15,  75,   1,  59,  53,  31, 110,  81],\n",
       "        [ 37,  59,  41,   9,  48,  22, 104,  43,   5,  83],\n",
       "        [ 76, 120,   1, 102,  16,  79,  37,  59,  41,   9],\n",
       "        [113, 131,  74,   7,  15,  16,  45,  20,  40,  71],\n",
       "        [ 44, 118,  62, 116,  59,  13, 121,  14,  93, 127]])"
      ]
     },
     "execution_count": 36,
     "metadata": {},
     "output_type": "execute_result"
    }
   ],
   "source": [
    "xx"
   ]
  },
  {
   "cell_type": "code",
   "execution_count": 37,
   "id": "ad3a9d7f",
   "metadata": {},
   "outputs": [
    {
     "data": {
      "text/plain": [
       "torch.Size([10, 10])"
      ]
     },
     "execution_count": 37,
     "metadata": {},
     "output_type": "execute_result"
    }
   ],
   "source": [
    "xx.shape"
   ]
  },
  {
   "cell_type": "code",
   "execution_count": 38,
   "id": "ac18709e",
   "metadata": {},
   "outputs": [],
   "source": [
    "embedding_size = 200"
   ]
  },
  {
   "cell_type": "code",
   "execution_count": 40,
   "id": "7af64883",
   "metadata": {},
   "outputs": [],
   "source": [
    "rnn = SimpleRNN(embedding_size,200,vocab_size)"
   ]
  },
  {
   "cell_type": "code",
   "execution_count": 41,
   "id": "98e6849b",
   "metadata": {},
   "outputs": [],
   "source": [
    "probs = rnn(xx)"
   ]
  },
  {
   "cell_type": "code",
   "execution_count": 42,
   "id": "90cb44fe",
   "metadata": {},
   "outputs": [
    {
     "data": {
      "text/plain": [
       "torch.Size([10, 10, 132])"
      ]
     },
     "execution_count": 42,
     "metadata": {},
     "output_type": "execute_result"
    }
   ],
   "source": [
    "probs.shape"
   ]
  },
  {
   "cell_type": "code",
   "execution_count": 43,
   "id": "71c7c111",
   "metadata": {},
   "outputs": [
    {
     "data": {
      "text/plain": [
       "torch.Size([10, 10])"
      ]
     },
     "execution_count": 43,
     "metadata": {},
     "output_type": "execute_result"
    }
   ],
   "source": [
    "yy.shape"
   ]
  },
  {
   "cell_type": "code",
   "execution_count": 44,
   "id": "98b404e0",
   "metadata": {},
   "outputs": [],
   "source": [
    "criterion = nn.CrossEntropyLoss()"
   ]
  },
  {
   "cell_type": "code",
   "execution_count": 45,
   "id": "125ac32d",
   "metadata": {},
   "outputs": [
    {
     "data": {
      "text/plain": [
       "tensor(4.8941, grad_fn=<NllLossBackward0>)"
      ]
     },
     "execution_count": 45,
     "metadata": {},
     "output_type": "execute_result"
    }
   ],
   "source": [
    "criterion(probs.view(-1,vocab_size),yy.view(-1))"
   ]
  },
  {
   "cell_type": "code",
   "execution_count": 46,
   "id": "09702125",
   "metadata": {},
   "outputs": [],
   "source": [
    "batch_n = 30"
   ]
  },
  {
   "cell_type": "code",
   "execution_count": 47,
   "id": "67370a19",
   "metadata": {},
   "outputs": [],
   "source": [
    "op = optim.SGD(rnn.parameters(),lr=0.001)"
   ]
  },
  {
   "cell_type": "code",
   "execution_count": 52,
   "id": "2bcc8cd5",
   "metadata": {},
   "outputs": [
    {
     "name": "stdout",
     "output_type": "stream",
     "text": [
      "tensor(4.1314, grad_fn=<NllLossBackward0>)\n",
      "tensor(4.1371, grad_fn=<NllLossBackward0>)\n",
      "tensor(4.1357, grad_fn=<NllLossBackward0>)\n",
      "tensor(4.1259, grad_fn=<NllLossBackward0>)\n",
      "tensor(4.1302, grad_fn=<NllLossBackward0>)\n",
      "tensor(4.1282, grad_fn=<NllLossBackward0>)\n",
      "tensor(4.1258, grad_fn=<NllLossBackward0>)\n",
      "tensor(4.1191, grad_fn=<NllLossBackward0>)\n",
      "tensor(4.1222, grad_fn=<NllLossBackward0>)\n",
      "tensor(4.1086, grad_fn=<NllLossBackward0>)\n",
      "tensor(4.1161, grad_fn=<NllLossBackward0>)\n",
      "tensor(4.1125, grad_fn=<NllLossBackward0>)\n",
      "tensor(4.1039, grad_fn=<NllLossBackward0>)\n",
      "tensor(4.1052, grad_fn=<NllLossBackward0>)\n",
      "tensor(4.1075, grad_fn=<NllLossBackward0>)\n",
      "tensor(4.0997, grad_fn=<NllLossBackward0>)\n",
      "tensor(4.0973, grad_fn=<NllLossBackward0>)\n",
      "tensor(4.1002, grad_fn=<NllLossBackward0>)\n",
      "tensor(4.0962, grad_fn=<NllLossBackward0>)\n",
      "tensor(4.0975, grad_fn=<NllLossBackward0>)\n",
      "tensor(4.0900, grad_fn=<NllLossBackward0>)\n",
      "tensor(4.0928, grad_fn=<NllLossBackward0>)\n",
      "tensor(4.0919, grad_fn=<NllLossBackward0>)\n",
      "tensor(4.0872, grad_fn=<NllLossBackward0>)\n",
      "tensor(4.0847, grad_fn=<NllLossBackward0>)\n",
      "tensor(4.0814, grad_fn=<NllLossBackward0>)\n",
      "tensor(4.0842, grad_fn=<NllLossBackward0>)\n",
      "tensor(4.0783, grad_fn=<NllLossBackward0>)\n",
      "tensor(4.0816, grad_fn=<NllLossBackward0>)\n",
      "tensor(4.0741, grad_fn=<NllLossBackward0>)\n",
      "tensor(4.0739, grad_fn=<NllLossBackward0>)\n",
      "tensor(4.0702, grad_fn=<NllLossBackward0>)\n",
      "tensor(4.0676, grad_fn=<NllLossBackward0>)\n",
      "tensor(4.0695, grad_fn=<NllLossBackward0>)\n",
      "tensor(4.0655, grad_fn=<NllLossBackward0>)\n",
      "tensor(4.0753, grad_fn=<NllLossBackward0>)\n",
      "tensor(4.0686, grad_fn=<NllLossBackward0>)\n",
      "tensor(4.0672, grad_fn=<NllLossBackward0>)\n",
      "tensor(4.0618, grad_fn=<NllLossBackward0>)\n",
      "tensor(4.0600, grad_fn=<NllLossBackward0>)\n",
      "tensor(4.0626, grad_fn=<NllLossBackward0>)\n",
      "tensor(4.0576, grad_fn=<NllLossBackward0>)\n",
      "tensor(4.0573, grad_fn=<NllLossBackward0>)\n",
      "tensor(4.0521, grad_fn=<NllLossBackward0>)\n",
      "tensor(4.0551, grad_fn=<NllLossBackward0>)\n",
      "tensor(4.0573, grad_fn=<NllLossBackward0>)\n",
      "tensor(4.0481, grad_fn=<NllLossBackward0>)\n",
      "tensor(4.0505, grad_fn=<NllLossBackward0>)\n",
      "tensor(4.0516, grad_fn=<NllLossBackward0>)\n",
      "tensor(4.0483, grad_fn=<NllLossBackward0>)\n",
      "tensor(4.0483, grad_fn=<NllLossBackward0>)\n",
      "tensor(4.0481, grad_fn=<NllLossBackward0>)\n",
      "tensor(4.0500, grad_fn=<NllLossBackward0>)\n",
      "tensor(4.0447, grad_fn=<NllLossBackward0>)\n",
      "tensor(4.0448, grad_fn=<NllLossBackward0>)\n",
      "tensor(4.0407, grad_fn=<NllLossBackward0>)\n",
      "tensor(4.0445, grad_fn=<NllLossBackward0>)\n",
      "tensor(4.0432, grad_fn=<NllLossBackward0>)\n",
      "tensor(4.0429, grad_fn=<NllLossBackward0>)\n",
      "tensor(4.0376, grad_fn=<NllLossBackward0>)\n",
      "tensor(4.0367, grad_fn=<NllLossBackward0>)\n",
      "tensor(4.0411, grad_fn=<NllLossBackward0>)\n",
      "tensor(4.0377, grad_fn=<NllLossBackward0>)\n",
      "tensor(4.0444, grad_fn=<NllLossBackward0>)\n",
      "tensor(4.0327, grad_fn=<NllLossBackward0>)\n",
      "tensor(4.0300, grad_fn=<NllLossBackward0>)\n",
      "tensor(4.0344, grad_fn=<NllLossBackward0>)\n",
      "tensor(4.0317, grad_fn=<NllLossBackward0>)\n",
      "tensor(4.0288, grad_fn=<NllLossBackward0>)\n",
      "tensor(4.0287, grad_fn=<NllLossBackward0>)\n",
      "tensor(4.0280, grad_fn=<NllLossBackward0>)\n",
      "tensor(4.0261, grad_fn=<NllLossBackward0>)\n",
      "tensor(4.0215, grad_fn=<NllLossBackward0>)\n",
      "tensor(4.0241, grad_fn=<NllLossBackward0>)\n",
      "tensor(4.0249, grad_fn=<NllLossBackward0>)\n",
      "tensor(4.0223, grad_fn=<NllLossBackward0>)\n",
      "tensor(4.0245, grad_fn=<NllLossBackward0>)\n",
      "tensor(4.0211, grad_fn=<NllLossBackward0>)\n",
      "tensor(4.0226, grad_fn=<NllLossBackward0>)\n",
      "tensor(4.0193, grad_fn=<NllLossBackward0>)\n",
      "tensor(4.0259, grad_fn=<NllLossBackward0>)\n",
      "tensor(4.0170, grad_fn=<NllLossBackward0>)\n",
      "tensor(4.0194, grad_fn=<NllLossBackward0>)\n",
      "tensor(4.0164, grad_fn=<NllLossBackward0>)\n",
      "tensor(4.0163, grad_fn=<NllLossBackward0>)\n",
      "tensor(4.0109, grad_fn=<NllLossBackward0>)\n",
      "tensor(4.0138, grad_fn=<NllLossBackward0>)\n",
      "tensor(4.0127, grad_fn=<NllLossBackward0>)\n",
      "tensor(4.0172, grad_fn=<NllLossBackward0>)\n",
      "tensor(4.0112, grad_fn=<NllLossBackward0>)\n",
      "tensor(4.0127, grad_fn=<NllLossBackward0>)\n",
      "tensor(4.0083, grad_fn=<NllLossBackward0>)\n",
      "tensor(4.0069, grad_fn=<NllLossBackward0>)\n",
      "tensor(4.0120, grad_fn=<NllLossBackward0>)\n",
      "tensor(4.0064, grad_fn=<NllLossBackward0>)\n",
      "tensor(4.0117, grad_fn=<NllLossBackward0>)\n",
      "tensor(4.0105, grad_fn=<NllLossBackward0>)\n",
      "tensor(4.0108, grad_fn=<NllLossBackward0>)\n",
      "tensor(4.0041, grad_fn=<NllLossBackward0>)\n",
      "tensor(4.0090, grad_fn=<NllLossBackward0>)\n"
     ]
    }
   ],
   "source": [
    "for i in range(100000):\n",
    "    xx,yy = get_data(batch_n)\n",
    "    probs = rnn(xx)\n",
    "    loss =  criterion(probs.view(-1,vocab_size),yy.view(-1))\n",
    "    if i % 1000 == 0:\n",
    "        print(loss)\n",
    "    op.zero_grad()\n",
    "    loss.backward()\n",
    "    torch.nn.utils.clip_grad_norm_(rnn.parameters(), max_norm=1.0)\n",
    "    op.step()"
   ]
  },
  {
   "cell_type": "code",
   "execution_count": 53,
   "id": "04205970",
   "metadata": {},
   "outputs": [],
   "source": [
    "start = '你'\n",
    "\n",
    "xx = [char2index[x] for x in start]\n",
    "for _ in range(100):\n",
    "    input_x = torch.tensor(xx)\n",
    "    probs = rnn(input_x.view(1,-1))[:,-1,:].view(-1) # vocabsize\n",
    "    choice = torch.multinomial(probs,1)\n",
    "    xx = xx + [choice.item()]"
   ]
  },
  {
   "cell_type": "code",
   "execution_count": 54,
   "id": "52ad3f78",
   "metadata": {},
   "outputs": [
    {
     "name": "stdout",
     "output_type": "stream",
     "text": [
      "你，尽想于很关当引要的时一，想为。理。合理引线阶细正后，因因的，成知环角，入挫章。来困得是很容升成向学入关站在篇该事困难诉那阶导诉细的文在么难环旋在让快有硕你篇你时习门识及握一馈螺旋正些环人会让就解而必\n"
     ]
    }
   ],
   "source": [
    "print(''.join([index2char[index] for index in xx]))"
   ]
  },
  {
   "cell_type": "code",
   "execution_count": null,
   "id": "94325868",
   "metadata": {},
   "outputs": [],
   "source": []
  },
  {
   "cell_type": "code",
   "execution_count": null,
   "id": "c0ac1b24",
   "metadata": {},
   "outputs": [],
   "source": []
  }
 ],
 "metadata": {
  "kernelspec": {
   "display_name": "edu_ktm",
   "language": "python",
   "name": "edu_ktm"
  },
  "language_info": {
   "codemirror_mode": {
    "name": "ipython",
    "version": 3
   },
   "file_extension": ".py",
   "mimetype": "text/x-python",
   "name": "python",
   "nbconvert_exporter": "python",
   "pygments_lexer": "ipython3",
   "version": "3.9.16"
  }
 },
 "nbformat": 4,
 "nbformat_minor": 5
}
