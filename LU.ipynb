{
 "cells": [
  {
   "cell_type": "code",
   "execution_count": 1,
   "id": "6742f46c",
   "metadata": {
    "pycharm": {
     "name": "#%%\n"
    }
   },
   "outputs": [],
   "source": [
    "import numpy as np"
   ]
  },
  {
   "cell_type": "code",
   "execution_count": 46,
   "id": "772b11bf",
   "metadata": {
    "pycharm": {
     "name": "#%%\n"
    }
   },
   "outputs": [],
   "source": [
    "A = np.array(\n",
    "   [[1,3,8],\n",
    "    [1,2,6],\n",
    "    [0,1,2]]\n",
    ")\n",
    "C = np.array(\n",
    "    [ [1,3],\n",
    "    [1,2],\n",
    "    [0,1]\n",
    "    ]\n",
    ")\n",
    "R = np.array(\n",
    "   [\n",
    "       [1,0,2],\n",
    "       [0,1,2]\n",
    "   ]\n",
    ")"
   ]
  },
  {
   "cell_type": "code",
   "execution_count": 47,
   "id": "e0405cc5",
   "metadata": {
    "pycharm": {
     "name": "#%%\n"
    }
   },
   "outputs": [
    {
     "data": {
      "text/plain": [
       "array([[1, 3, 8],\n",
       "       [1, 2, 6],\n",
       "       [0, 1, 2]])"
      ]
     },
     "execution_count": 47,
     "metadata": {},
     "output_type": "execute_result"
    }
   ],
   "source": [
    "C @ R"
   ]
  },
  {
   "cell_type": "code",
   "execution_count": 73,
   "id": "7c222529",
   "metadata": {
    "pycharm": {
     "name": "#%%\n"
    }
   },
   "outputs": [],
   "source": [
    "C1 = np.array(\n",
    "   [\n",
    "       [1,1],\n",
    "       [0,1],\n",
    "       [0,9]\n",
    "   ]\n",
    ")"
   ]
  },
  {
   "cell_type": "code",
   "execution_count": 65,
   "id": "e809df1b",
   "metadata": {
    "pycharm": {
     "name": "#%%\n"
    }
   },
   "outputs": [],
   "source": [
    "R1 = np.array(\n",
    "   [\n",
    "     [1, 3, 8],\n",
    "     [1, 2, 6]\n",
    "   ]\n",
    ")"
   ]
  },
  {
   "cell_type": "code",
   "execution_count": 77,
   "id": "f1668977",
   "metadata": {
    "pycharm": {
     "name": "#%%\n"
    }
   },
   "outputs": [],
   "source": [
    "C1 = C"
   ]
  },
  {
   "cell_type": "code",
   "execution_count": 67,
   "id": "e0185c1d",
   "metadata": {
    "pycharm": {
     "name": "#%%\n"
    }
   },
   "outputs": [
    {
     "data": {
      "text/plain": [
       "array([[ 4.66666667, -1.66666667],\n",
       "       [-1.66666667,  0.66666667]])"
      ]
     },
     "execution_count": 67,
     "metadata": {},
     "output_type": "execute_result"
    }
   ],
   "source": [
    "np.linalg.inv(C1.T @ C1)"
   ]
  },
  {
   "cell_type": "code",
   "execution_count": 68,
   "id": "4602f04f",
   "metadata": {
    "pycharm": {
     "name": "#%%\n"
    }
   },
   "outputs": [],
   "source": [
    "R = R1"
   ]
  },
  {
   "cell_type": "code",
   "execution_count": 69,
   "id": "0d4184da",
   "metadata": {
    "pycharm": {
     "name": "#%%\n"
    }
   },
   "outputs": [
    {
     "data": {
      "text/plain": [
       "array([[ 4.55555556, -6.11111111],\n",
       "       [-6.11111111,  8.22222222]])"
      ]
     },
     "execution_count": 69,
     "metadata": {},
     "output_type": "execute_result"
    }
   ],
   "source": [
    "np.linalg.inv((R @ R.T))"
   ]
  },
  {
   "cell_type": "code",
   "execution_count": 78,
   "id": "8bf73e3b",
   "metadata": {
    "pycharm": {
     "name": "#%%\n"
    }
   },
   "outputs": [],
   "source": [
    "M = np.linalg.inv(C1.T @ C1) @ (C1.T @ A @ R.T) @ np.linalg.inv((R @ R.T))"
   ]
  },
  {
   "cell_type": "code",
   "execution_count": 79,
   "id": "f9cf100b",
   "metadata": {
    "pycharm": {
     "name": "#%%\n"
    }
   },
   "outputs": [
    {
     "data": {
      "text/plain": [
       "array([[-2.,  3.],\n",
       "       [ 1., -1.]])"
      ]
     },
     "execution_count": 79,
     "metadata": {},
     "output_type": "execute_result"
    }
   ],
   "source": [
    "M"
   ]
  },
  {
   "cell_type": "code",
   "execution_count": 80,
   "id": "0eb25638",
   "metadata": {
    "pycharm": {
     "name": "#%%\n"
    }
   },
   "outputs": [
    {
     "data": {
      "text/plain": [
       "array([[1.00000000e+00, 3.00000000e+00, 8.00000000e+00],\n",
       "       [1.00000000e+00, 2.00000000e+00, 6.00000000e+00],\n",
       "       [1.26565425e-14, 1.00000000e+00, 2.00000000e+00]])"
      ]
     },
     "execution_count": 80,
     "metadata": {},
     "output_type": "execute_result"
    }
   ],
   "source": [
    "C1 @ M @ R"
   ]
  },
  {
   "cell_type": "code",
   "execution_count": 81,
   "id": "ddeb461b",
   "metadata": {
    "pycharm": {
     "name": "#%%\n"
    }
   },
   "outputs": [
    {
     "data": {
      "text/plain": [
       "array([[ 1.00000000e+00, -2.57571742e-14,  2.00000000e+00],\n",
       "       [ 1.26565425e-14,  1.00000000e+00,  2.00000000e+00]])"
      ]
     },
     "execution_count": 81,
     "metadata": {},
     "output_type": "execute_result"
    }
   ],
   "source": [
    "M @ R"
   ]
  },
  {
   "cell_type": "code",
   "execution_count": 82,
   "id": "e3a698f6",
   "metadata": {
    "pycharm": {
     "name": "#%%\n"
    }
   },
   "outputs": [
    {
     "data": {
      "text/plain": [
       "array([[-2.,  3.],\n",
       "       [ 1., -1.]])"
      ]
     },
     "execution_count": 82,
     "metadata": {},
     "output_type": "execute_result"
    }
   ],
   "source": [
    "M"
   ]
  },
  {
   "cell_type": "code",
   "execution_count": 113,
   "id": "371c3ab0",
   "metadata": {
    "pycharm": {
     "name": "#%%\n"
    }
   },
   "outputs": [],
   "source": [
    "def decompose(mat,i,j):\n",
    "    m,n = mat.shape\n",
    "    first_val = mat[i][j]\n",
    "    col = np.zeros((m,1))\n",
    "    row = mat[i].reshape((1,n))\n",
    "    for k in range(i,m):\n",
    "        col[k] = mat[k][j] / first_val\n",
    "    return col,row\n",
    "    "
   ]
  },
  {
   "cell_type": "code",
   "execution_count": 121,
   "id": "5f8280bb",
   "metadata": {
    "pycharm": {
     "name": "#%%\n"
    }
   },
   "outputs": [],
   "source": [
    "mat = np.array(\n",
    "   [[1,2,3],\n",
    "    [4,5,6],\n",
    "    [7,8,19]]\n",
    ")"
   ]
  },
  {
   "cell_type": "code",
   "execution_count": 115,
   "id": "3824ed4d",
   "metadata": {
    "pycharm": {
     "name": "#%%\n"
    }
   },
   "outputs": [
    {
     "data": {
      "text/plain": [
       "(array([[1.],\n",
       "        [4.],\n",
       "        [7.]]),\n",
       " array([[1, 2, 3]]))"
      ]
     },
     "execution_count": 115,
     "metadata": {},
     "output_type": "execute_result"
    }
   ],
   "source": [
    "decompose(mat,0,0)"
   ]
  },
  {
   "cell_type": "code",
   "execution_count": 122,
   "id": "0463d34f",
   "metadata": {
    "pycharm": {
     "name": "#%%\n"
    }
   },
   "outputs": [],
   "source": [
    "tmp = mat\n",
    "cols = []\n",
    "rows = []"
   ]
  },
  {
   "cell_type": "code",
   "execution_count": 123,
   "id": "4ff7421d",
   "metadata": {
    "pycharm": {
     "name": "#%%\n"
    }
   },
   "outputs": [],
   "source": [
    "for i in range(min(mat.shape)):\n",
    "    col,row = decompose(tmp,i,i)\n",
    "    tmp = tmp - col @ row\n",
    "    cols.append(col)\n",
    "    rows.append(row)"
   ]
  },
  {
   "cell_type": "code",
   "execution_count": 126,
   "id": "b58d72c8",
   "metadata": {
    "pycharm": {
     "name": "#%%\n"
    }
   },
   "outputs": [
    {
     "name": "stdout",
     "output_type": "stream",
     "text": [
      "[[1. 0. 0.]\n",
      " [4. 1. 0.]\n",
      " [7. 2. 1.]]\n"
     ]
    }
   ],
   "source": [
    "print(np.concatenate(cols,axis=1))"
   ]
  },
  {
   "cell_type": "code",
   "execution_count": 125,
   "id": "328757ad",
   "metadata": {
    "pycharm": {
     "name": "#%%\n"
    }
   },
   "outputs": [
    {
     "name": "stdout",
     "output_type": "stream",
     "text": [
      "[array([[1, 2, 3]]), array([[ 0., -3., -6.]]), array([[ 0.,  0., 10.]])]\n"
     ]
    }
   ],
   "source": [
    "print(rows)"
   ]
  },
  {
   "cell_type": "code",
   "execution_count": 128,
   "id": "4879c1b1",
   "metadata": {
    "pycharm": {
     "name": "#%%\n"
    }
   },
   "outputs": [
    {
     "name": "stdout",
     "output_type": "stream",
     "text": [
      "[[ 1.  2.  3.]\n",
      " [ 0. -3. -6.]\n",
      " [ 0.  0. 10.]]\n"
     ]
    }
   ],
   "source": [
    "print(np.concatenate(rows,axis=0))"
   ]
  },
  {
   "cell_type": "code",
   "execution_count": 129,
   "id": "8cebc204",
   "metadata": {
    "pycharm": {
     "name": "#%%\n"
    }
   },
   "outputs": [],
   "source": [
    "L = np.concatenate(cols,axis=1)"
   ]
  },
  {
   "cell_type": "code",
   "execution_count": 130,
   "id": "59613904",
   "metadata": {
    "pycharm": {
     "name": "#%%\n"
    }
   },
   "outputs": [],
   "source": [
    "U = np.concatenate(rows,axis=0)"
   ]
  },
  {
   "cell_type": "code",
   "execution_count": 131,
   "id": "949e0c1f",
   "metadata": {
    "pycharm": {
     "name": "#%%\n"
    }
   },
   "outputs": [
    {
     "data": {
      "text/plain": [
       "array([[ 1.,  2.,  3.],\n",
       "       [ 4.,  5.,  6.],\n",
       "       [ 7.,  8., 19.]])"
      ]
     },
     "execution_count": 131,
     "metadata": {},
     "output_type": "execute_result"
    }
   ],
   "source": [
    "L @ U"
   ]
  },
  {
   "cell_type": "code",
   "execution_count": 132,
   "id": "28808da6",
   "metadata": {
    "pycharm": {
     "name": "#%%\n"
    }
   },
   "outputs": [],
   "source": [
    "def f(mat):\n",
    "    tmp = mat\n",
    "    cols = []\n",
    "    rows = []\n",
    "    for i in range(min(mat.shape)):\n",
    "        col,row = decompose(tmp,i,i)\n",
    "        tmp = tmp - col @ row\n",
    "        cols.append(col)\n",
    "        rows.append(row)\n",
    "    L = np.concatenate(cols,axis=1)\n",
    "    U = np.concatenate(rows,axis=0)\n",
    "    return L,U"
   ]
  },
  {
   "cell_type": "code",
   "execution_count": 133,
   "id": "6bdabf24",
   "metadata": {
    "pycharm": {
     "name": "#%%\n"
    }
   },
   "outputs": [
    {
     "data": {
      "text/plain": [
       "(array([[1., 0., 0.],\n",
       "        [4., 1., 0.],\n",
       "        [7., 2., 1.]]),\n",
       " array([[ 1.,  2.,  3.],\n",
       "        [ 0., -3., -6.],\n",
       "        [ 0.,  0., 10.]]))"
      ]
     },
     "execution_count": 133,
     "metadata": {},
     "output_type": "execute_result"
    }
   ],
   "source": [
    "f(mat)"
   ]
  },
  {
   "cell_type": "code",
   "execution_count": 134,
   "id": "1d8b916c",
   "metadata": {
    "pycharm": {
     "name": "#%%\n"
    }
   },
   "outputs": [],
   "source": [
    "mat = np.array(\n",
    "   [\n",
    "       [9,0,0],\n",
    "       [0,1,2],\n",
    "       [0,2,8]\n",
    "   ]\n",
    ")"
   ]
  },
  {
   "cell_type": "code",
   "execution_count": 136,
   "id": "15d1425c",
   "metadata": {
    "pycharm": {
     "name": "#%%\n"
    }
   },
   "outputs": [],
   "source": [
    "L,U = f(mat)"
   ]
  },
  {
   "cell_type": "code",
   "execution_count": 146,
   "id": "c3a4f795",
   "metadata": {
    "pycharm": {
     "name": "#%%\n"
    }
   },
   "outputs": [
    {
     "data": {
      "text/plain": [
       "(array([[1., 0., 0.],\n",
       "        [0., 1., 0.],\n",
       "        [0., 2., 1.]]),\n",
       " array([[9., 0., 0.],\n",
       "        [0., 1., 2.],\n",
       "        [0., 0., 4.]]))"
      ]
     },
     "execution_count": 146,
     "metadata": {},
     "output_type": "execute_result"
    }
   ],
   "source": [
    "L,U"
   ]
  },
  {
   "cell_type": "code",
   "execution_count": 138,
   "id": "73489d3d",
   "metadata": {
    "pycharm": {
     "name": "#%%\n"
    }
   },
   "outputs": [
    {
     "data": {
      "text/plain": [
       "array([[1., 0., 0.],\n",
       "       [0., 1., 2.],\n",
       "       [0., 0., 1.]])"
      ]
     },
     "execution_count": 138,
     "metadata": {},
     "output_type": "execute_result"
    }
   ],
   "source": [
    "L.T"
   ]
  },
  {
   "cell_type": "code",
   "execution_count": 143,
   "id": "6cffe2d2",
   "metadata": {
    "pycharm": {
     "name": "#%%\n"
    }
   },
   "outputs": [],
   "source": [
    "D = np.array(\n",
    "   [\n",
    "       [9,0,0],\n",
    "       [0,1,0],\n",
    "       [0,0,4]\n",
    "   ]\n",
    ")"
   ]
  },
  {
   "cell_type": "code",
   "execution_count": 144,
   "id": "49907d7a",
   "metadata": {
    "pycharm": {
     "name": "#%%\n"
    }
   },
   "outputs": [
    {
     "data": {
      "text/plain": [
       "array([[9., 0., 0.],\n",
       "       [0., 1., 2.],\n",
       "       [0., 0., 4.]])"
      ]
     },
     "execution_count": 144,
     "metadata": {},
     "output_type": "execute_result"
    }
   ],
   "source": [
    "D @ L.T"
   ]
  },
  {
   "cell_type": "code",
   "execution_count": 149,
   "id": "407d4b8c",
   "metadata": {
    "pycharm": {
     "name": "#%%\n"
    }
   },
   "outputs": [],
   "source": [
    "mat = np.array(\n",
    "   [\n",
    "       [1,1,2],\n",
    "       [1,2,2],\n",
    "       [1,2,7]\n",
    "   ]\n",
    ")"
   ]
  },
  {
   "cell_type": "code",
   "execution_count": 150,
   "id": "afb031ad",
   "metadata": {
    "pycharm": {
     "name": "#%%\n"
    }
   },
   "outputs": [],
   "source": [
    "L,U = f(mat)"
   ]
  },
  {
   "cell_type": "code",
   "execution_count": 151,
   "id": "3c766200",
   "metadata": {
    "pycharm": {
     "name": "#%%\n"
    }
   },
   "outputs": [
    {
     "data": {
      "text/plain": [
       "(array([[1., 0., 0.],\n",
       "        [1., 1., 0.],\n",
       "        [1., 1., 1.]]),\n",
       " array([[1., 1., 2.],\n",
       "        [0., 1., 0.],\n",
       "        [0., 0., 5.]]))"
      ]
     },
     "execution_count": 151,
     "metadata": {},
     "output_type": "execute_result"
    }
   ],
   "source": [
    "L,U"
   ]
  },
  {
   "cell_type": "code",
   "execution_count": 152,
   "id": "42bcb8bb",
   "metadata": {
    "pycharm": {
     "name": "#%%\n"
    }
   },
   "outputs": [],
   "source": [
    "def diag(mat):\n",
    "    ans = np.zeros(mat.shape)\n",
    "    for i in range(mat.shape[0]):\n",
    "        ans[i][i] = mat[i][i]\n",
    "    return ans"
   ]
  },
  {
   "cell_type": "code",
   "execution_count": 154,
   "id": "b2cd3c90",
   "metadata": {
    "pycharm": {
     "name": "#%%\n"
    }
   },
   "outputs": [
    {
     "data": {
      "text/plain": [
       "array([[1., 1., 1.],\n",
       "       [1., 2., 2.],\n",
       "       [1., 2., 7.]])"
      ]
     },
     "execution_count": 154,
     "metadata": {},
     "output_type": "execute_result"
    }
   ],
   "source": [
    "L @ diag(U) @ L.T"
   ]
  },
  {
   "cell_type": "code",
   "execution_count": null,
   "id": "ec37913c",
   "metadata": {
    "pycharm": {
     "name": "#%%\n"
    }
   },
   "outputs": [],
   "source": []
  },
  {
   "cell_type": "code",
   "execution_count": null,
   "id": "8ca6a0b1",
   "metadata": {
    "pycharm": {
     "name": "#%%\n"
    }
   },
   "outputs": [],
   "source": []
  }
 ],
 "metadata": {
  "kernelspec": {
   "display_name": "edu_ktm",
   "language": "python",
   "name": "edu_ktm"
  },
  "language_info": {
   "codemirror_mode": {
    "name": "ipython",
    "version": 3
   },
   "file_extension": ".py",
   "mimetype": "text/x-python",
   "name": "python",
   "nbconvert_exporter": "python",
   "pygments_lexer": "ipython3",
   "version": "3.9.16"
  }
 },
 "nbformat": 4,
 "nbformat_minor": 5
}