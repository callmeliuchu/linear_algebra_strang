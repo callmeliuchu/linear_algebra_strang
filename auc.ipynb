{
 "cells": [
  {
   "cell_type": "code",
   "execution_count": 8,
   "id": "48817c1f",
   "metadata": {
    "pycharm": {
     "name": "#%%\n"
    }
   },
   "outputs": [],
   "source": [
    "y_true = [0, 1, 1, 0, 1, 0, 0]\n",
    "y_scores = [0.9, 0.8, 0.6, 0.2, 0.9, 0.3, 0.4]\n",
    "\n",
    "sorted_pairs = sorted(zip(y_scores, y_true), key=lambda x: x[0], reverse=True)\n",
    "sorted_y_scores, sorted_y_true = zip(*sorted_pairs)\n"
   ]
  },
  {
   "cell_type": "code",
   "execution_count": 9,
   "id": "32b52c58",
   "metadata": {
    "pycharm": {
     "name": "#%%\n"
    }
   },
   "outputs": [],
   "source": [
    "total_positive = sum(sorted_y_true)\n",
    "total_negative = len(sorted_y_true) - total_positive\n",
    "\n",
    "tpr_list = [0]\n",
    "fpr_list = [0]\n",
    "\n",
    "for i in range(len(sorted_y_scores)):\n",
    "    threshold = sorted_y_scores[i]\n",
    "    tp = sum(sorted_y_true[:i + 1])\n",
    "    fp = i + 1 - tp\n",
    "\n",
    "    tpr = tp / total_positive\n",
    "    fpr = fp / total_negative\n",
    "\n",
    "    tpr_list.append(tpr)\n",
    "    fpr_list.append(fpr)\n"
   ]
  },
  {
   "cell_type": "code",
   "execution_count": 10,
   "id": "6246afdc",
   "metadata": {
    "pycharm": {
     "name": "#%%\n"
    }
   },
   "outputs": [
    {
     "name": "stdout",
     "output_type": "stream",
     "text": [
      "AUC: 0.75\n"
     ]
    }
   ],
   "source": [
    "def auc_trapezoidal_rule(tpr, fpr):\n",
    "    auc = 0\n",
    "    for i in range(1, len(tpr)):\n",
    "        auc += 0.5 * (fpr[i] - fpr[i - 1]) * (tpr[i] + tpr[i - 1])\n",
    "    return auc\n",
    "\n",
    "area_under_curve = auc_trapezoidal_rule(tpr_list, fpr_list)\n",
    "print(\"AUC:\", area_under_curve)\n"
   ]
  },
  {
   "cell_type": "code",
   "execution_count": 11,
   "id": "ef1d8c14",
   "metadata": {
    "pycharm": {
     "name": "#%%\n"
    }
   },
   "outputs": [
    {
     "data": {
      "text/plain": [
       "(0.9, 0.9, 0.8, 0.6, 0.4, 0.3, 0.2)"
      ]
     },
     "execution_count": 11,
     "metadata": {},
     "output_type": "execute_result"
    }
   ],
   "source": [
    "sorted_y_scores"
   ]
  },
  {
   "cell_type": "code",
   "execution_count": 5,
   "id": "fb883c8a",
   "metadata": {
    "pycharm": {
     "name": "#%%\n"
    }
   },
   "outputs": [
    {
     "data": {
      "text/plain": [
       "(1, 1, 1, 0, 0, 0, 0)"
      ]
     },
     "execution_count": 5,
     "metadata": {},
     "output_type": "execute_result"
    }
   ],
   "source": [
    "sorted_y_true"
   ]
  },
  {
   "cell_type": "code",
   "execution_count": 6,
   "id": "f00d2b39",
   "metadata": {
    "pycharm": {
     "name": "#%%\n"
    }
   },
   "outputs": [
    {
     "data": {
      "text/plain": [
       "[0, 0.3333333333333333, 0.6666666666666666, 1.0, 1.0, 1.0, 1.0, 1.0]"
      ]
     },
     "execution_count": 6,
     "metadata": {},
     "output_type": "execute_result"
    }
   ],
   "source": [
    "tpr_list"
   ]
  },
  {
   "cell_type": "code",
   "execution_count": 7,
   "id": "f49c0701",
   "metadata": {
    "pycharm": {
     "name": "#%%\n"
    }
   },
   "outputs": [
    {
     "data": {
      "text/plain": [
       "[0, 0.0, 0.0, 0.0, 0.25, 0.5, 0.75, 1.0]"
      ]
     },
     "execution_count": 7,
     "metadata": {},
     "output_type": "execute_result"
    }
   ],
   "source": [
    "fpr_list"
   ]
  },
  {
   "cell_type": "code",
   "execution_count": null,
   "id": "976e15d0",
   "metadata": {
    "pycharm": {
     "name": "#%%\n"
    }
   },
   "outputs": [],
   "source": []
  }
 ],
 "metadata": {
  "kernelspec": {
   "display_name": "edu_ktm",
   "language": "python",
   "name": "edu_ktm"
  },
  "language_info": {
   "codemirror_mode": {
    "name": "ipython",
    "version": 3
   },
   "file_extension": ".py",
   "mimetype": "text/x-python",
   "name": "python",
   "nbconvert_exporter": "python",
   "pygments_lexer": "ipython3",
   "version": "3.9.16"
  }
 },
 "nbformat": 4,
 "nbformat_minor": 5
}