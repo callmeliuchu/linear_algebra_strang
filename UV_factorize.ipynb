{
 "cells": [
  {
   "cell_type": "code",
   "execution_count": 104,
   "id": "36d6ea1d",
   "metadata": {},
   "outputs": [],
   "source": [
    "import numpy as np"
   ]
  },
  {
   "cell_type": "code",
   "execution_count": 164,
   "id": "455781c2",
   "metadata": {},
   "outputs": [],
   "source": [
    "A = np.array(\n",
    "     [\n",
    "         [1,2],\n",
    "         [3,4],\n",
    "         [5,6]\n",
    "     ]\n",
    ")"
   ]
  },
  {
   "cell_type": "code",
   "execution_count": 165,
   "id": "52bc4ade",
   "metadata": {},
   "outputs": [
    {
     "data": {
      "text/plain": [
       "array([[1, 2],\n",
       "       [3, 4],\n",
       "       [5, 6]])"
      ]
     },
     "execution_count": 165,
     "metadata": {},
     "output_type": "execute_result"
    }
   ],
   "source": [
    "A"
   ]
  },
  {
   "cell_type": "code",
   "execution_count": 181,
   "id": "15b3b7ba",
   "metadata": {},
   "outputs": [],
   "source": [
    "u = np.array([\n",
    "    [0,1],\n",
    "    [1,1],\n",
    "    [2,1]\n",
    "])"
   ]
  },
  {
   "cell_type": "code",
   "execution_count": 182,
   "id": "ba2746da",
   "metadata": {},
   "outputs": [],
   "source": [
    "v = np.array(\n",
    "   [[0.1,0],\n",
    "    [0,2]\n",
    "   ]\n",
    ")"
   ]
  },
  {
   "cell_type": "code",
   "execution_count": 209,
   "id": "e1bfd545",
   "metadata": {},
   "outputs": [
    {
     "data": {
      "text/plain": [
       "array([[ 1.65094287],\n",
       "       [-0.53807711],\n",
       "       [ 1.03422699]])"
      ]
     },
     "execution_count": 209,
     "metadata": {},
     "output_type": "execute_result"
    }
   ],
   "source": [
    "u = np.random.randn(3,1)\n",
    "u"
   ]
  },
  {
   "cell_type": "code",
   "execution_count": 210,
   "id": "7f73cc7d",
   "metadata": {},
   "outputs": [
    {
     "data": {
      "text/plain": [
       "array([[-0.37906489,  0.42610338]])"
      ]
     },
     "execution_count": 210,
     "metadata": {},
     "output_type": "execute_result"
    }
   ],
   "source": [
    "v = np.random.randn(1,2)\n",
    "v"
   ]
  },
  {
   "cell_type": "code",
   "execution_count": 211,
   "id": "46edfb4f",
   "metadata": {},
   "outputs": [],
   "source": [
    "xx=(u.T ** 2).sum(axis=1,keepdims=True)"
   ]
  },
  {
   "cell_type": "code",
   "execution_count": 212,
   "id": "42119032",
   "metadata": {},
   "outputs": [
    {
     "data": {
      "text/plain": [
       "array([[4.08476481]])"
      ]
     },
     "execution_count": 212,
     "metadata": {},
     "output_type": "execute_result"
    }
   ],
   "source": [
    "xx"
   ]
  },
  {
   "cell_type": "code",
   "execution_count": 213,
   "id": "06fa7ec6",
   "metadata": {},
   "outputs": [
    {
     "data": {
      "text/plain": [
       "array([[1.27494403, 1.80057839]])"
      ]
     },
     "execution_count": 213,
     "metadata": {},
     "output_type": "execute_result"
    }
   ],
   "source": [
    "(u.T @ A) / xx"
   ]
  },
  {
   "cell_type": "code",
   "execution_count": 214,
   "id": "caff8f23",
   "metadata": {},
   "outputs": [
    {
     "data": {
      "text/plain": [
       "(3, 1)"
      ]
     },
     "execution_count": 214,
     "metadata": {},
     "output_type": "execute_result"
    }
   ],
   "source": [
    "u.shape"
   ]
  },
  {
   "cell_type": "code",
   "execution_count": 215,
   "id": "5ec2d408",
   "metadata": {},
   "outputs": [
    {
     "data": {
      "text/plain": [
       "(1, 2)"
      ]
     },
     "execution_count": 215,
     "metadata": {},
     "output_type": "execute_result"
    }
   ],
   "source": [
    "v.shape"
   ]
  },
  {
   "cell_type": "code",
   "execution_count": 216,
   "id": "cd0f2ff8",
   "metadata": {},
   "outputs": [
    {
     "data": {
      "text/plain": [
       "array([[-0.62581448,  0.70347234],\n",
       "       [ 0.20396614, -0.22927648],\n",
       "       [-0.39203914,  0.44068762]])"
      ]
     },
     "execution_count": 216,
     "metadata": {},
     "output_type": "execute_result"
    }
   ],
   "source": [
    "u @ v"
   ]
  },
  {
   "cell_type": "code",
   "execution_count": 217,
   "id": "b88e2235",
   "metadata": {},
   "outputs": [
    {
     "name": "stdout",
     "output_type": "stream",
     "text": [
      "90.00888181632516\n",
      "71.11714252481985\n",
      "0.5102900090577672\n",
      "0.2652235265468562\n",
      "0.2645071816209503\n",
      "0.2645050933711206\n",
      "0.2645050872836162\n",
      "0.26450508726587046\n",
      "0.2645050872658191\n",
      "0.2645050872658186\n",
      "0.2645050872658187\n",
      "0.26450508726581873\n",
      "0.2645050872658186\n",
      "0.2645050872658187\n",
      "0.2645050872658188\n",
      "0.26450508726581873\n",
      "0.26450508726581873\n",
      "0.26450508726581873\n",
      "0.26450508726581873\n",
      "0.26450508726581873\n",
      "0.26450508726581873\n",
      "0.26450508726581873\n",
      "0.26450508726581873\n",
      "0.26450508726581873\n",
      "0.26450508726581873\n",
      "0.26450508726581873\n",
      "0.26450508726581873\n",
      "0.26450508726581873\n",
      "0.26450508726581873\n",
      "0.26450508726581873\n",
      "0.26450508726581873\n",
      "0.26450508726581873\n",
      "0.26450508726581873\n",
      "0.26450508726581873\n",
      "0.26450508726581873\n",
      "0.26450508726581873\n",
      "0.26450508726581873\n",
      "0.26450508726581873\n",
      "0.26450508726581873\n",
      "0.26450508726581873\n",
      "0.26450508726581873\n",
      "0.26450508726581873\n",
      "0.26450508726581873\n",
      "0.26450508726581873\n",
      "0.26450508726581873\n",
      "0.26450508726581873\n",
      "0.26450508726581873\n",
      "0.26450508726581873\n",
      "0.26450508726581873\n",
      "0.26450508726581873\n",
      "0.26450508726581873\n",
      "0.26450508726581873\n",
      "0.26450508726581873\n",
      "0.26450508726581873\n",
      "0.26450508726581873\n",
      "0.26450508726581873\n",
      "0.26450508726581873\n",
      "0.26450508726581873\n",
      "0.26450508726581873\n",
      "0.26450508726581873\n",
      "0.26450508726581873\n",
      "0.26450508726581873\n",
      "0.26450508726581873\n",
      "0.26450508726581873\n",
      "0.26450508726581873\n",
      "0.26450508726581873\n",
      "0.26450508726581873\n",
      "0.26450508726581873\n",
      "0.26450508726581873\n",
      "0.26450508726581873\n",
      "0.26450508726581873\n",
      "0.26450508726581873\n",
      "0.26450508726581873\n",
      "0.26450508726581873\n",
      "0.26450508726581873\n",
      "0.26450508726581873\n",
      "0.26450508726581873\n",
      "0.26450508726581873\n",
      "0.26450508726581873\n",
      "0.26450508726581873\n",
      "0.26450508726581873\n",
      "0.26450508726581873\n",
      "0.26450508726581873\n",
      "0.26450508726581873\n",
      "0.26450508726581873\n",
      "0.26450508726581873\n",
      "0.26450508726581873\n",
      "0.26450508726581873\n",
      "0.26450508726581873\n",
      "0.26450508726581873\n",
      "0.26450508726581873\n",
      "0.26450508726581873\n",
      "0.26450508726581873\n",
      "0.26450508726581873\n",
      "0.26450508726581873\n",
      "0.26450508726581873\n",
      "0.26450508726581873\n",
      "0.26450508726581873\n",
      "0.26450508726581873\n",
      "0.26450508726581873\n"
     ]
    }
   ],
   "source": [
    "for i in range(100):\n",
    "    loss = ((A - u@v)**2).sum()\n",
    "    if i % 2 == 0:\n",
    "        v = (u.T @ A) / (u.T ** 2).sum(axis=1,keepdims=True)\n",
    "    else:\n",
    "        u = ((v @ A.T) / (v ** 2).sum(axis=1,keepdims=True)).T\n",
    "    print(loss)"
   ]
  },
  {
   "cell_type": "code",
   "execution_count": 218,
   "id": "0060b371",
   "metadata": {},
   "outputs": [
    {
     "data": {
      "text/plain": [
       "array([[0.99102725],\n",
       "       [2.26252611],\n",
       "       [3.53402497]])"
      ]
     },
     "execution_count": 218,
     "metadata": {},
     "output_type": "execute_result"
    }
   ],
   "source": [
    "u "
   ]
  },
  {
   "cell_type": "code",
   "execution_count": null,
   "id": "ff7a7254",
   "metadata": {},
   "outputs": [],
   "source": []
  },
  {
   "cell_type": "code",
   "execution_count": 219,
   "id": "1037ce2a",
   "metadata": {},
   "outputs": [
    {
     "data": {
      "text/plain": [
       "array([[1.36891108, 1.73402129]])"
      ]
     },
     "execution_count": 219,
     "metadata": {},
     "output_type": "execute_result"
    }
   ],
   "source": [
    "v"
   ]
  },
  {
   "cell_type": "code",
   "execution_count": 220,
   "id": "3e4a0e37",
   "metadata": {},
   "outputs": [
    {
     "data": {
      "text/plain": [
       "array([[1.35662819, 1.71846235],\n",
       "       [3.09719707, 3.92326845],\n",
       "       [4.83776596, 6.12807454]])"
      ]
     },
     "execution_count": 220,
     "metadata": {},
     "output_type": "execute_result"
    }
   ],
   "source": [
    "u @ v"
   ]
  },
  {
   "cell_type": "code",
   "execution_count": 193,
   "id": "8184cdf5",
   "metadata": {},
   "outputs": [
    {
     "data": {
      "text/plain": [
       "array([[ 2.71325637,  3.4369247 ],\n",
       "       [ 6.19439414,  7.84653689],\n",
       "       [ 9.67553191, 12.25614908]])"
      ]
     },
     "execution_count": 193,
     "metadata": {},
     "output_type": "execute_result"
    }
   ],
   "source": [
    "u @ v"
   ]
  },
  {
   "cell_type": "code",
   "execution_count": 130,
   "id": "8775e0ce",
   "metadata": {},
   "outputs": [
    {
     "data": {
      "text/plain": [
       "array([[20.77661898, 29.48212435],\n",
       "       [20.77661898, 29.48212435]])"
      ]
     },
     "execution_count": 130,
     "metadata": {},
     "output_type": "execute_result"
    }
   ],
   "source": [
    "v"
   ]
  },
  {
   "cell_type": "code",
   "execution_count": 131,
   "id": "56316121",
   "metadata": {},
   "outputs": [],
   "source": [
    "uu,sigama,vv = np.linalg.svd(A)"
   ]
  },
  {
   "cell_type": "code",
   "execution_count": 132,
   "id": "e28ae5eb",
   "metadata": {},
   "outputs": [
    {
     "data": {
      "text/plain": [
       "array([[-0.40455358, -0.9145143 ],\n",
       "       [-0.9145143 ,  0.40455358]])"
      ]
     },
     "execution_count": 132,
     "metadata": {},
     "output_type": "execute_result"
    }
   ],
   "source": [
    "uu"
   ]
  },
  {
   "cell_type": "code",
   "execution_count": 133,
   "id": "18039646",
   "metadata": {},
   "outputs": [
    {
     "data": {
      "text/plain": [
       "array([5.4649857 , 0.36596619])"
      ]
     },
     "execution_count": 133,
     "metadata": {},
     "output_type": "execute_result"
    }
   ],
   "source": [
    "sigama"
   ]
  },
  {
   "cell_type": "code",
   "execution_count": 73,
   "id": "a0e9b068",
   "metadata": {},
   "outputs": [
    {
     "data": {
      "text/plain": [
       "array([[-0.57604844, -0.81741556],\n",
       "       [ 0.81741556, -0.57604844]])"
      ]
     },
     "execution_count": 73,
     "metadata": {},
     "output_type": "execute_result"
    }
   ],
   "source": [
    "vv"
   ]
  },
  {
   "cell_type": "code",
   "execution_count": null,
   "id": "3eaff7a1",
   "metadata": {},
   "outputs": [],
   "source": []
  },
  {
   "cell_type": "code",
   "execution_count": null,
   "id": "bcb7ba09",
   "metadata": {},
   "outputs": [],
   "source": []
  }
 ],
 "metadata": {
  "kernelspec": {
   "display_name": "edu_ktm",
   "language": "python",
   "name": "edu_ktm"
  },
  "language_info": {
   "codemirror_mode": {
    "name": "ipython",
    "version": 3
   },
   "file_extension": ".py",
   "mimetype": "text/x-python",
   "name": "python",
   "nbconvert_exporter": "python",
   "pygments_lexer": "ipython3",
   "version": "3.9.16"
  }
 },
 "nbformat": 4,
 "nbformat_minor": 5
}
